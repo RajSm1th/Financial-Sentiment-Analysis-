{
 "cells": [
  {
   "cell_type": "code",
   "execution_count": 207,
   "id": "1c2f9b08",
   "metadata": {},
   "outputs": [],
   "source": [
    "import pandas as pd\n",
    "import numpy as np\n",
    "import re\n",
    "import warnings\n",
    "warnings.filterwarnings(\"ignore\")"
   ]
  },
  {
   "cell_type": "code",
   "execution_count": 428,
   "id": "3b60775a",
   "metadata": {
    "scrolled": false
   },
   "outputs": [
    {
     "data": {
      "text/html": [
       "<div>\n",
       "<style scoped>\n",
       "    .dataframe tbody tr th:only-of-type {\n",
       "        vertical-align: middle;\n",
       "    }\n",
       "\n",
       "    .dataframe tbody tr th {\n",
       "        vertical-align: top;\n",
       "    }\n",
       "\n",
       "    .dataframe thead th {\n",
       "        text-align: right;\n",
       "    }\n",
       "</style>\n",
       "<table border=\"1\" class=\"dataframe\">\n",
       "  <thead>\n",
       "    <tr style=\"text-align: right;\">\n",
       "      <th></th>\n",
       "      <th>Sentence</th>\n",
       "      <th>Sentiment</th>\n",
       "    </tr>\n",
       "  </thead>\n",
       "  <tbody>\n",
       "    <tr>\n",
       "      <th>0</th>\n",
       "      <td>The GeoSolutions technology will leverage Bene...</td>\n",
       "      <td>positive</td>\n",
       "    </tr>\n",
       "    <tr>\n",
       "      <th>1</th>\n",
       "      <td>$ESI on lows, down $1.50 to $2.50 BK a real po...</td>\n",
       "      <td>negative</td>\n",
       "    </tr>\n",
       "    <tr>\n",
       "      <th>2</th>\n",
       "      <td>For the last quarter of 2010 , Componenta 's n...</td>\n",
       "      <td>positive</td>\n",
       "    </tr>\n",
       "    <tr>\n",
       "      <th>3</th>\n",
       "      <td>According to the Finnish-Russian Chamber of Co...</td>\n",
       "      <td>neutral</td>\n",
       "    </tr>\n",
       "    <tr>\n",
       "      <th>4</th>\n",
       "      <td>The Swedish buyout firm has sold its remaining...</td>\n",
       "      <td>neutral</td>\n",
       "    </tr>\n",
       "    <tr>\n",
       "      <th>...</th>\n",
       "      <td>...</td>\n",
       "      <td>...</td>\n",
       "    </tr>\n",
       "    <tr>\n",
       "      <th>5837</th>\n",
       "      <td>RISING costs have forced packaging producer Hu...</td>\n",
       "      <td>negative</td>\n",
       "    </tr>\n",
       "    <tr>\n",
       "      <th>5838</th>\n",
       "      <td>Nordic Walking was first used as a summer trai...</td>\n",
       "      <td>neutral</td>\n",
       "    </tr>\n",
       "    <tr>\n",
       "      <th>5839</th>\n",
       "      <td>According shipping company Viking Line , the E...</td>\n",
       "      <td>neutral</td>\n",
       "    </tr>\n",
       "    <tr>\n",
       "      <th>5840</th>\n",
       "      <td>In the building and home improvement trade , s...</td>\n",
       "      <td>neutral</td>\n",
       "    </tr>\n",
       "    <tr>\n",
       "      <th>5841</th>\n",
       "      <td>HELSINKI AFX - KCI Konecranes said it has won ...</td>\n",
       "      <td>positive</td>\n",
       "    </tr>\n",
       "  </tbody>\n",
       "</table>\n",
       "<p>5842 rows × 2 columns</p>\n",
       "</div>"
      ],
      "text/plain": [
       "                                               Sentence Sentiment\n",
       "0     The GeoSolutions technology will leverage Bene...  positive\n",
       "1     $ESI on lows, down $1.50 to $2.50 BK a real po...  negative\n",
       "2     For the last quarter of 2010 , Componenta 's n...  positive\n",
       "3     According to the Finnish-Russian Chamber of Co...   neutral\n",
       "4     The Swedish buyout firm has sold its remaining...   neutral\n",
       "...                                                 ...       ...\n",
       "5837  RISING costs have forced packaging producer Hu...  negative\n",
       "5838  Nordic Walking was first used as a summer trai...   neutral\n",
       "5839  According shipping company Viking Line , the E...   neutral\n",
       "5840  In the building and home improvement trade , s...   neutral\n",
       "5841  HELSINKI AFX - KCI Konecranes said it has won ...  positive\n",
       "\n",
       "[5842 rows x 2 columns]"
      ]
     },
     "execution_count": 428,
     "metadata": {},
     "output_type": "execute_result"
    }
   ],
   "source": [
    "df = pd.read_csv(\"C:\\\\Users\\\\lenovo\\\\OneDrive\\\\data science\\\\DS project\\\\sentimental analysis\\\\financial_sentiment_data.csv\")\n",
    "df"
   ]
  },
  {
   "cell_type": "code",
   "execution_count": 429,
   "id": "ddea2e1b",
   "metadata": {},
   "outputs": [
    {
     "data": {
      "text/html": [
       "<div>\n",
       "<style scoped>\n",
       "    .dataframe tbody tr th:only-of-type {\n",
       "        vertical-align: middle;\n",
       "    }\n",
       "\n",
       "    .dataframe tbody tr th {\n",
       "        vertical-align: top;\n",
       "    }\n",
       "\n",
       "    .dataframe thead th {\n",
       "        text-align: right;\n",
       "    }\n",
       "</style>\n",
       "<table border=\"1\" class=\"dataframe\">\n",
       "  <thead>\n",
       "    <tr style=\"text-align: right;\">\n",
       "      <th></th>\n",
       "      <th>Sentence</th>\n",
       "      <th>Sentiment</th>\n",
       "    </tr>\n",
       "  </thead>\n",
       "  <tbody>\n",
       "    <tr>\n",
       "      <th>1825</th>\n",
       "      <td>Proha Plc ( Euronext :7327 ) announced today (...</td>\n",
       "      <td>neutral</td>\n",
       "    </tr>\n",
       "    <tr>\n",
       "      <th>1859</th>\n",
       "      <td>SSH Communications Security Corporation is hea...</td>\n",
       "      <td>neutral</td>\n",
       "    </tr>\n",
       "    <tr>\n",
       "      <th>2672</th>\n",
       "      <td>Ahlstrom 's share is quoted on the NASDAQ OMX ...</td>\n",
       "      <td>neutral</td>\n",
       "    </tr>\n",
       "    <tr>\n",
       "      <th>3272</th>\n",
       "      <td>The company serves customers in various indust...</td>\n",
       "      <td>neutral</td>\n",
       "    </tr>\n",
       "    <tr>\n",
       "      <th>3986</th>\n",
       "      <td>The issuer is solely responsible for the conte...</td>\n",
       "      <td>neutral</td>\n",
       "    </tr>\n",
       "    <tr>\n",
       "      <th>5342</th>\n",
       "      <td>The report profiles 614 companies including ma...</td>\n",
       "      <td>neutral</td>\n",
       "    </tr>\n",
       "  </tbody>\n",
       "</table>\n",
       "</div>"
      ],
      "text/plain": [
       "                                               Sentence Sentiment\n",
       "1825  Proha Plc ( Euronext :7327 ) announced today (...   neutral\n",
       "1859  SSH Communications Security Corporation is hea...   neutral\n",
       "2672  Ahlstrom 's share is quoted on the NASDAQ OMX ...   neutral\n",
       "3272  The company serves customers in various indust...   neutral\n",
       "3986  The issuer is solely responsible for the conte...   neutral\n",
       "5342  The report profiles 614 companies including ma...   neutral"
      ]
     },
     "execution_count": 429,
     "metadata": {},
     "output_type": "execute_result"
    }
   ],
   "source": [
    "df[df.duplicated()]"
   ]
  },
  {
   "cell_type": "code",
   "execution_count": 430,
   "id": "b36f7fd2",
   "metadata": {},
   "outputs": [],
   "source": [
    "df = df.drop_duplicates()"
   ]
  },
  {
   "cell_type": "code",
   "execution_count": 431,
   "id": "41c7c888",
   "metadata": {},
   "outputs": [
    {
     "data": {
      "text/html": [
       "<div>\n",
       "<style scoped>\n",
       "    .dataframe tbody tr th:only-of-type {\n",
       "        vertical-align: middle;\n",
       "    }\n",
       "\n",
       "    .dataframe tbody tr th {\n",
       "        vertical-align: top;\n",
       "    }\n",
       "\n",
       "    .dataframe thead th {\n",
       "        text-align: right;\n",
       "    }\n",
       "</style>\n",
       "<table border=\"1\" class=\"dataframe\">\n",
       "  <thead>\n",
       "    <tr style=\"text-align: right;\">\n",
       "      <th></th>\n",
       "      <th>Sentence</th>\n",
       "      <th>Sentiment</th>\n",
       "    </tr>\n",
       "  </thead>\n",
       "  <tbody>\n",
       "    <tr>\n",
       "      <th>266</th>\n",
       "      <td>Finnish GeoSentric 's net sales decreased to E...</td>\n",
       "      <td>neutral</td>\n",
       "    </tr>\n",
       "    <tr>\n",
       "      <th>283</th>\n",
       "      <td>Sales in Finland decreased by 10.5 % in Januar...</td>\n",
       "      <td>negative</td>\n",
       "    </tr>\n",
       "    <tr>\n",
       "      <th>349</th>\n",
       "      <td>Full-year operating result for 2008 was 3.6 mi...</td>\n",
       "      <td>negative</td>\n",
       "    </tr>\n",
       "    <tr>\n",
       "      <th>387</th>\n",
       "      <td>Making matters more difficult , the company sa...</td>\n",
       "      <td>negative</td>\n",
       "    </tr>\n",
       "    <tr>\n",
       "      <th>496</th>\n",
       "      <td>Antti Orkola , president of Kemira GrowHow 's ...</td>\n",
       "      <td>negative</td>\n",
       "    </tr>\n",
       "    <tr>\n",
       "      <th>...</th>\n",
       "      <td>...</td>\n",
       "      <td>...</td>\n",
       "    </tr>\n",
       "    <tr>\n",
       "      <th>5827</th>\n",
       "      <td>( ADPnews ) - Oct 21 , 2009 - Finland-based IT...</td>\n",
       "      <td>negative</td>\n",
       "    </tr>\n",
       "    <tr>\n",
       "      <th>5831</th>\n",
       "      <td>Finnish developer and manufacturer of mobile p...</td>\n",
       "      <td>negative</td>\n",
       "    </tr>\n",
       "    <tr>\n",
       "      <th>5832</th>\n",
       "      <td>Operating profit fell to EUR 38.1 mn from EUR ...</td>\n",
       "      <td>negative</td>\n",
       "    </tr>\n",
       "    <tr>\n",
       "      <th>5837</th>\n",
       "      <td>RISING costs have forced packaging producer Hu...</td>\n",
       "      <td>negative</td>\n",
       "    </tr>\n",
       "    <tr>\n",
       "      <th>5840</th>\n",
       "      <td>In the building and home improvement trade , s...</td>\n",
       "      <td>neutral</td>\n",
       "    </tr>\n",
       "  </tbody>\n",
       "</table>\n",
       "<p>514 rows × 2 columns</p>\n",
       "</div>"
      ],
      "text/plain": [
       "                                               Sentence Sentiment\n",
       "266   Finnish GeoSentric 's net sales decreased to E...   neutral\n",
       "283   Sales in Finland decreased by 10.5 % in Januar...  negative\n",
       "349   Full-year operating result for 2008 was 3.6 mi...  negative\n",
       "387   Making matters more difficult , the company sa...  negative\n",
       "496   Antti Orkola , president of Kemira GrowHow 's ...  negative\n",
       "...                                                 ...       ...\n",
       "5827  ( ADPnews ) - Oct 21 , 2009 - Finland-based IT...  negative\n",
       "5831  Finnish developer and manufacturer of mobile p...  negative\n",
       "5832  Operating profit fell to EUR 38.1 mn from EUR ...  negative\n",
       "5837  RISING costs have forced packaging producer Hu...  negative\n",
       "5840  In the building and home improvement trade , s...   neutral\n",
       "\n",
       "[514 rows x 2 columns]"
      ]
     },
     "execution_count": 431,
     "metadata": {},
     "output_type": "execute_result"
    }
   ],
   "source": [
    "Duplicate = df[df.duplicated(subset=['Sentence'])]\n",
    "Duplicate"
   ]
  },
  {
   "cell_type": "code",
   "execution_count": 432,
   "id": "ed4a3b25",
   "metadata": {},
   "outputs": [
    {
     "name": "stdout",
     "output_type": "stream",
     "text": [
      "Finnish electronics contract manufacturer Scanfil reports net sales of EUR 241.2 mn in 2006 , down from EUR 321.6 mn in 2005 .\n"
     ]
    }
   ],
   "source": [
    "print(df[\"Sentence\"][5821])"
   ]
  },
  {
   "cell_type": "code",
   "execution_count": 433,
   "id": "6f55bd8d",
   "metadata": {},
   "outputs": [
    {
     "data": {
      "text/html": [
       "<div>\n",
       "<style scoped>\n",
       "    .dataframe tbody tr th:only-of-type {\n",
       "        vertical-align: middle;\n",
       "    }\n",
       "\n",
       "    .dataframe tbody tr th {\n",
       "        vertical-align: top;\n",
       "    }\n",
       "\n",
       "    .dataframe thead th {\n",
       "        text-align: right;\n",
       "    }\n",
       "</style>\n",
       "<table border=\"1\" class=\"dataframe\">\n",
       "  <thead>\n",
       "    <tr style=\"text-align: right;\">\n",
       "      <th></th>\n",
       "      <th>Sentence</th>\n",
       "      <th>Sentiment</th>\n",
       "    </tr>\n",
       "  </thead>\n",
       "  <tbody>\n",
       "    <tr>\n",
       "      <th>1186</th>\n",
       "      <td>( ADPnews ) - Oct 21 , 2009 - Finland-based IT...</td>\n",
       "      <td>neutral</td>\n",
       "    </tr>\n",
       "    <tr>\n",
       "      <th>5827</th>\n",
       "      <td>( ADPnews ) - Oct 21 , 2009 - Finland-based IT...</td>\n",
       "      <td>negative</td>\n",
       "    </tr>\n",
       "  </tbody>\n",
       "</table>\n",
       "</div>"
      ],
      "text/plain": [
       "                                               Sentence Sentiment\n",
       "1186  ( ADPnews ) - Oct 21 , 2009 - Finland-based IT...   neutral\n",
       "5827  ( ADPnews ) - Oct 21 , 2009 - Finland-based IT...  negative"
      ]
     },
     "execution_count": 433,
     "metadata": {},
     "output_type": "execute_result"
    }
   ],
   "source": [
    "df[df['Sentence'] == \"( ADPnews ) - Oct 21 , 2009 - Finland-based IT consultancy Tieto Oyj ( HEL : TIE1V ) said today its net profit plunged to EUR 29.4 million ( USD 43.9 m ) for the first nine months of 2009 from EUR 58.7 million for the same period o\"]"
   ]
  },
  {
   "cell_type": "code",
   "execution_count": 434,
   "id": "aa898b62",
   "metadata": {},
   "outputs": [
    {
     "data": {
      "text/html": [
       "<div>\n",
       "<style scoped>\n",
       "    .dataframe tbody tr th:only-of-type {\n",
       "        vertical-align: middle;\n",
       "    }\n",
       "\n",
       "    .dataframe tbody tr th {\n",
       "        vertical-align: top;\n",
       "    }\n",
       "\n",
       "    .dataframe thead th {\n",
       "        text-align: right;\n",
       "    }\n",
       "</style>\n",
       "<table border=\"1\" class=\"dataframe\">\n",
       "  <thead>\n",
       "    <tr style=\"text-align: right;\">\n",
       "      <th></th>\n",
       "      <th>Sentence</th>\n",
       "      <th>Sentiment</th>\n",
       "    </tr>\n",
       "  </thead>\n",
       "  <tbody>\n",
       "    <tr>\n",
       "      <th>0</th>\n",
       "      <td>The GeoSolutions technology will leverage Bene...</td>\n",
       "      <td>positive</td>\n",
       "    </tr>\n",
       "    <tr>\n",
       "      <th>1</th>\n",
       "      <td>$ESI on lows, down $1.50 to $2.50 BK a real po...</td>\n",
       "      <td>negative</td>\n",
       "    </tr>\n",
       "    <tr>\n",
       "      <th>2</th>\n",
       "      <td>For the last quarter of 2010 , Componenta 's n...</td>\n",
       "      <td>positive</td>\n",
       "    </tr>\n",
       "    <tr>\n",
       "      <th>3</th>\n",
       "      <td>According to the Finnish-Russian Chamber of Co...</td>\n",
       "      <td>neutral</td>\n",
       "    </tr>\n",
       "    <tr>\n",
       "      <th>4</th>\n",
       "      <td>The Swedish buyout firm has sold its remaining...</td>\n",
       "      <td>neutral</td>\n",
       "    </tr>\n",
       "    <tr>\n",
       "      <th>...</th>\n",
       "      <td>...</td>\n",
       "      <td>...</td>\n",
       "    </tr>\n",
       "    <tr>\n",
       "      <th>5835</th>\n",
       "      <td>HSBC Says Unit to Book $585 Million Charge on ...</td>\n",
       "      <td>negative</td>\n",
       "    </tr>\n",
       "    <tr>\n",
       "      <th>5836</th>\n",
       "      <td>Daily Mail parent company in talks with potent...</td>\n",
       "      <td>positive</td>\n",
       "    </tr>\n",
       "    <tr>\n",
       "      <th>5838</th>\n",
       "      <td>Nordic Walking was first used as a summer trai...</td>\n",
       "      <td>neutral</td>\n",
       "    </tr>\n",
       "    <tr>\n",
       "      <th>5839</th>\n",
       "      <td>According shipping company Viking Line , the E...</td>\n",
       "      <td>neutral</td>\n",
       "    </tr>\n",
       "    <tr>\n",
       "      <th>5841</th>\n",
       "      <td>HELSINKI AFX - KCI Konecranes said it has won ...</td>\n",
       "      <td>positive</td>\n",
       "    </tr>\n",
       "  </tbody>\n",
       "</table>\n",
       "<p>4808 rows × 2 columns</p>\n",
       "</div>"
      ],
      "text/plain": [
       "                                               Sentence Sentiment\n",
       "0     The GeoSolutions technology will leverage Bene...  positive\n",
       "1     $ESI on lows, down $1.50 to $2.50 BK a real po...  negative\n",
       "2     For the last quarter of 2010 , Componenta 's n...  positive\n",
       "3     According to the Finnish-Russian Chamber of Co...   neutral\n",
       "4     The Swedish buyout firm has sold its remaining...   neutral\n",
       "...                                                 ...       ...\n",
       "5835  HSBC Says Unit to Book $585 Million Charge on ...  negative\n",
       "5836  Daily Mail parent company in talks with potent...  positive\n",
       "5838  Nordic Walking was first used as a summer trai...   neutral\n",
       "5839  According shipping company Viking Line , the E...   neutral\n",
       "5841  HELSINKI AFX - KCI Konecranes said it has won ...  positive\n",
       "\n",
       "[4808 rows x 2 columns]"
      ]
     },
     "execution_count": 434,
     "metadata": {},
     "output_type": "execute_result"
    }
   ],
   "source": [
    "df = df.drop_duplicates(subset=['Sentence'], keep=False)\n",
    "df"
   ]
  },
  {
   "cell_type": "code",
   "execution_count": 435,
   "id": "9aa9f035",
   "metadata": {},
   "outputs": [
    {
     "data": {
      "text/html": [
       "<div>\n",
       "<style scoped>\n",
       "    .dataframe tbody tr th:only-of-type {\n",
       "        vertical-align: middle;\n",
       "    }\n",
       "\n",
       "    .dataframe tbody tr th {\n",
       "        vertical-align: top;\n",
       "    }\n",
       "\n",
       "    .dataframe thead th {\n",
       "        text-align: right;\n",
       "    }\n",
       "</style>\n",
       "<table border=\"1\" class=\"dataframe\">\n",
       "  <thead>\n",
       "    <tr style=\"text-align: right;\">\n",
       "      <th></th>\n",
       "      <th>Sentence</th>\n",
       "      <th>Sentiment</th>\n",
       "    </tr>\n",
       "  </thead>\n",
       "  <tbody>\n",
       "    <tr>\n",
       "      <th>0</th>\n",
       "      <td>The GeoSolutions technology will leverage Bene...</td>\n",
       "      <td>positive</td>\n",
       "    </tr>\n",
       "    <tr>\n",
       "      <th>1</th>\n",
       "      <td>$ESI on lows, down $1.50 to $2.50 BK a real po...</td>\n",
       "      <td>negative</td>\n",
       "    </tr>\n",
       "    <tr>\n",
       "      <th>2</th>\n",
       "      <td>For the last quarter of 2010 , Componenta 's n...</td>\n",
       "      <td>positive</td>\n",
       "    </tr>\n",
       "    <tr>\n",
       "      <th>3</th>\n",
       "      <td>According to the Finnish-Russian Chamber of Co...</td>\n",
       "      <td>neutral</td>\n",
       "    </tr>\n",
       "    <tr>\n",
       "      <th>4</th>\n",
       "      <td>The Swedish buyout firm has sold its remaining...</td>\n",
       "      <td>neutral</td>\n",
       "    </tr>\n",
       "    <tr>\n",
       "      <th>...</th>\n",
       "      <td>...</td>\n",
       "      <td>...</td>\n",
       "    </tr>\n",
       "    <tr>\n",
       "      <th>4803</th>\n",
       "      <td>HSBC Says Unit to Book $585 Million Charge on ...</td>\n",
       "      <td>negative</td>\n",
       "    </tr>\n",
       "    <tr>\n",
       "      <th>4804</th>\n",
       "      <td>Daily Mail parent company in talks with potent...</td>\n",
       "      <td>positive</td>\n",
       "    </tr>\n",
       "    <tr>\n",
       "      <th>4805</th>\n",
       "      <td>Nordic Walking was first used as a summer trai...</td>\n",
       "      <td>neutral</td>\n",
       "    </tr>\n",
       "    <tr>\n",
       "      <th>4806</th>\n",
       "      <td>According shipping company Viking Line , the E...</td>\n",
       "      <td>neutral</td>\n",
       "    </tr>\n",
       "    <tr>\n",
       "      <th>4807</th>\n",
       "      <td>HELSINKI AFX - KCI Konecranes said it has won ...</td>\n",
       "      <td>positive</td>\n",
       "    </tr>\n",
       "  </tbody>\n",
       "</table>\n",
       "<p>4808 rows × 2 columns</p>\n",
       "</div>"
      ],
      "text/plain": [
       "                                               Sentence Sentiment\n",
       "0     The GeoSolutions technology will leverage Bene...  positive\n",
       "1     $ESI on lows, down $1.50 to $2.50 BK a real po...  negative\n",
       "2     For the last quarter of 2010 , Componenta 's n...  positive\n",
       "3     According to the Finnish-Russian Chamber of Co...   neutral\n",
       "4     The Swedish buyout firm has sold its remaining...   neutral\n",
       "...                                                 ...       ...\n",
       "4803  HSBC Says Unit to Book $585 Million Charge on ...  negative\n",
       "4804  Daily Mail parent company in talks with potent...  positive\n",
       "4805  Nordic Walking was first used as a summer trai...   neutral\n",
       "4806  According shipping company Viking Line , the E...   neutral\n",
       "4807  HELSINKI AFX - KCI Konecranes said it has won ...  positive\n",
       "\n",
       "[4808 rows x 2 columns]"
      ]
     },
     "execution_count": 435,
     "metadata": {},
     "output_type": "execute_result"
    }
   ],
   "source": [
    "df = df.reset_index()\n",
    "df = df.drop('index', axis=1)\n",
    "df"
   ]
  },
  {
   "cell_type": "markdown",
   "id": "d3f78a27",
   "metadata": {},
   "source": [
    "# Preprocessing"
   ]
  },
  {
   "cell_type": "code",
   "execution_count": 436,
   "id": "6942c553",
   "metadata": {},
   "outputs": [
    {
     "name": "stderr",
     "output_type": "stream",
     "text": [
      "[nltk_data] Downloading package wordnet to\n",
      "[nltk_data]     C:\\Users\\lenovo\\AppData\\Roaming\\nltk_data...\n",
      "[nltk_data]   Package wordnet is already up-to-date!\n",
      "[nltk_data] Downloading package omw-1.4 to\n",
      "[nltk_data]     C:\\Users\\lenovo\\AppData\\Roaming\\nltk_data...\n",
      "[nltk_data]   Package omw-1.4 is already up-to-date!\n"
     ]
    }
   ],
   "source": [
    "import nltk\n",
    "nltk.download('wordnet')\n",
    "nltk.download('omw-1.4')\n",
    "from nltk.corpus import stopwords\n",
    "from nltk.tokenize import word_tokenize\n",
    "from bs4 import BeautifulSoup\n",
    "from nltk.stem import WordNetLemmatizer"
   ]
  },
  {
   "cell_type": "code",
   "execution_count": 437,
   "id": "b8607f1b",
   "metadata": {},
   "outputs": [],
   "source": [
    "lemmatizer = WordNetLemmatizer()\n",
    "stop_words = set(stopwords.words('english'))"
   ]
  },
  {
   "cell_type": "code",
   "execution_count": 438,
   "id": "f223baf9",
   "metadata": {},
   "outputs": [],
   "source": [
    "def preprocess(text):\n",
    "    # remove HTML tags and URLs\n",
    "    text = re.sub(r'http\\S+', '', text)\n",
    "    text = BeautifulSoup(text, \"html.parser\").get_text()\n",
    "    # remove non-alphabetical characters and digits\n",
    "    text = re.sub('[^a-zA-Z\\s]', '', text)\n",
    "    # convert to lowercase\n",
    "    text = text.lower()\n",
    "    # tokenize the text\n",
    "    tokens = word_tokenize(text)\n",
    "    # remove stopwords\n",
    "    stop_words = set(stopwords.words('english'))\n",
    "    filtered_tokens = [word for word in tokens if word not in stop_words]\n",
    "    # lemmatize the tokens\n",
    "    lemmatizer = WordNetLemmatizer()\n",
    "    lemmatized_tokens = [lemmatizer.lemmatize(word) for word in filtered_tokens]\n",
    "    # join the tokens back into a string\n",
    "    text = ' '.join(lemmatized_tokens)\n",
    "    return text"
   ]
  },
  {
   "cell_type": "code",
   "execution_count": 439,
   "id": "a7900c3a",
   "metadata": {},
   "outputs": [
    {
     "data": {
      "text/html": [
       "<div>\n",
       "<style scoped>\n",
       "    .dataframe tbody tr th:only-of-type {\n",
       "        vertical-align: middle;\n",
       "    }\n",
       "\n",
       "    .dataframe tbody tr th {\n",
       "        vertical-align: top;\n",
       "    }\n",
       "\n",
       "    .dataframe thead th {\n",
       "        text-align: right;\n",
       "    }\n",
       "</style>\n",
       "<table border=\"1\" class=\"dataframe\">\n",
       "  <thead>\n",
       "    <tr style=\"text-align: right;\">\n",
       "      <th></th>\n",
       "      <th>Sentence</th>\n",
       "      <th>Sentiment</th>\n",
       "    </tr>\n",
       "  </thead>\n",
       "  <tbody>\n",
       "    <tr>\n",
       "      <th>0</th>\n",
       "      <td>geosolutions technology leverage benefon gps s...</td>\n",
       "      <td>positive</td>\n",
       "    </tr>\n",
       "    <tr>\n",
       "      <th>1</th>\n",
       "      <td>esi low bk real possibility</td>\n",
       "      <td>negative</td>\n",
       "    </tr>\n",
       "    <tr>\n",
       "      <th>2</th>\n",
       "      <td>last quarter componenta net sale doubled eurm ...</td>\n",
       "      <td>positive</td>\n",
       "    </tr>\n",
       "    <tr>\n",
       "      <th>3</th>\n",
       "      <td>according finnishrussian chamber commerce majo...</td>\n",
       "      <td>neutral</td>\n",
       "    </tr>\n",
       "    <tr>\n",
       "      <th>4</th>\n",
       "      <td>swedish buyout firm sold remaining percent sta...</td>\n",
       "      <td>neutral</td>\n",
       "    </tr>\n",
       "    <tr>\n",
       "      <th>...</th>\n",
       "      <td>...</td>\n",
       "      <td>...</td>\n",
       "    </tr>\n",
       "    <tr>\n",
       "      <th>4803</th>\n",
       "      <td>hsbc say unit book million charge settlement</td>\n",
       "      <td>negative</td>\n",
       "    </tr>\n",
       "    <tr>\n",
       "      <th>4804</th>\n",
       "      <td>daily mail parent company talk potential partn...</td>\n",
       "      <td>positive</td>\n",
       "    </tr>\n",
       "    <tr>\n",
       "      <th>4805</th>\n",
       "      <td>nordic walking first used summer training meth...</td>\n",
       "      <td>neutral</td>\n",
       "    </tr>\n",
       "    <tr>\n",
       "      <th>4806</th>\n",
       "      <td>according shipping company viking line eu deci...</td>\n",
       "      <td>neutral</td>\n",
       "    </tr>\n",
       "    <tr>\n",
       "      <th>4807</th>\n",
       "      <td>helsinki afx kci konecranes said order four ho...</td>\n",
       "      <td>positive</td>\n",
       "    </tr>\n",
       "  </tbody>\n",
       "</table>\n",
       "<p>4808 rows × 2 columns</p>\n",
       "</div>"
      ],
      "text/plain": [
       "                                               Sentence Sentiment\n",
       "0     geosolutions technology leverage benefon gps s...  positive\n",
       "1                           esi low bk real possibility  negative\n",
       "2     last quarter componenta net sale doubled eurm ...  positive\n",
       "3     according finnishrussian chamber commerce majo...   neutral\n",
       "4     swedish buyout firm sold remaining percent sta...   neutral\n",
       "...                                                 ...       ...\n",
       "4803       hsbc say unit book million charge settlement  negative\n",
       "4804  daily mail parent company talk potential partn...  positive\n",
       "4805  nordic walking first used summer training meth...   neutral\n",
       "4806  according shipping company viking line eu deci...   neutral\n",
       "4807  helsinki afx kci konecranes said order four ho...  positive\n",
       "\n",
       "[4808 rows x 2 columns]"
      ]
     },
     "execution_count": 439,
     "metadata": {},
     "output_type": "execute_result"
    }
   ],
   "source": [
    "df['Sentence'] = df['Sentence'].apply(preprocess)\n",
    "df"
   ]
  },
  {
   "cell_type": "code",
   "execution_count": 440,
   "id": "01cc3fd9",
   "metadata": {},
   "outputs": [],
   "source": [
    "df.to_csv('Preprocessed', index=False)"
   ]
  },
  {
   "cell_type": "code",
   "execution_count": 441,
   "id": "3ff380aa",
   "metadata": {},
   "outputs": [],
   "source": [
    "def get_nonstopword_frequencies(dataset_file_path):\n",
    "\n",
    "    # Create three separate DataFrames for each class\n",
    "    positive_df = df[df['Sentiment'] == 'positive']\n",
    "    negative_df = df[df['Sentiment'] == 'negative']\n",
    "    neutral_df = df[df['Sentiment'] == 'neutral']\n",
    "\n",
    "    # Tokenize the text column and create a set of unique words for each class\n",
    "    positive_words = set(nltk.tokenize.word_tokenize(' '.join(positive_df['Sentence'].tolist())))\n",
    "    negative_words = set(nltk.tokenize.word_tokenize(' '.join(negative_df['Sentence'].tolist())))\n",
    "    neutral_words = set(nltk.tokenize.word_tokenize(' '.join(neutral_df['Sentence'].tolist())))\n",
    "\n",
    "    # Combine the sets of words into a single set\n",
    "    all_words = positive_words.union(negative_words).union(neutral_words)\n",
    "\n",
    "    # Create a list of stop words from NLTK\n",
    "    stop_words = set(nltk.corpus.stopwords.words('english'))\n",
    "\n",
    "    # Remove stop words from the set of all words\n",
    "    non_stop_words = all_words.difference(stop_words)\n",
    "\n",
    "    # Calculate the frequency of each non-stop word in each class\n",
    "    positive_freqdist = nltk.FreqDist([word for word in nltk.tokenize.word_tokenize(' '.join(positive_df['Sentence'].tolist())) if word in non_stop_words])\n",
    "    negative_freqdist = nltk.FreqDist([word for word in nltk.tokenize.word_tokenize(' '.join(negative_df['Sentence'].tolist())) if word in non_stop_words])\n",
    "    neutral_freqdist = nltk.FreqDist([word for word in nltk.tokenize.word_tokenize(' '.join(neutral_df['Sentence'].tolist())) if word in non_stop_words])\n",
    "\n",
    "    # Create a pandas DataFrame for non-stop words\n",
    "    df_nonstopwords = pd.DataFrame(columns=['Word', 'Positive_Frequency', 'Negative_Frequency', 'Neutral_Frequency', 'Average_Frequency', 'Total_Frequency'])\n",
    "\n",
    "    # Loop over all non-stop words and add their frequencies to the DataFrame\n",
    "    for word in non_stop_words:\n",
    "        freqs = [positive_freqdist[word], negative_freqdist[word], neutral_freqdist[word]]\n",
    "        total_freq = sum(freqs)\n",
    "        avg_freq = sum(freqs) / len(freqs)\n",
    "        df_nonstopwords = df_nonstopwords.append({'Word': word, \n",
    "                                                  'Positive_Frequency': positive_freqdist[word], \n",
    "                                                  'Negative_Frequency': negative_freqdist[word], \n",
    "                                                  'Neutral_Frequency': neutral_freqdist[word],\n",
    "                                                  'Average_Frequency': avg_freq,\n",
    "                                                  'Total_Frequency': total_freq}, \n",
    "                                                 ignore_index=True)\n",
    "\n",
    "    # Sort the DataFrame by the Average_Frequency column in descending order\n",
    "    df_nonstopwords = df_nonstopwords.sort_values(by='Total_Frequency', ascending=False)\n",
    "\n",
    "    # Return the sorted DataFrame\n",
    "    return df_nonstopwords"
   ]
  },
  {
   "cell_type": "code",
   "execution_count": 442,
   "id": "b3bf3bce",
   "metadata": {},
   "outputs": [],
   "source": [
    "df_freq_words = get_nonstopword_frequencies('df')"
   ]
  },
  {
   "cell_type": "code",
   "execution_count": 443,
   "id": "e403a183",
   "metadata": {},
   "outputs": [
    {
     "data": {
      "text/html": [
       "<div>\n",
       "<style scoped>\n",
       "    .dataframe tbody tr th:only-of-type {\n",
       "        vertical-align: middle;\n",
       "    }\n",
       "\n",
       "    .dataframe tbody tr th {\n",
       "        vertical-align: top;\n",
       "    }\n",
       "\n",
       "    .dataframe thead th {\n",
       "        text-align: right;\n",
       "    }\n",
       "</style>\n",
       "<table border=\"1\" class=\"dataframe\">\n",
       "  <thead>\n",
       "    <tr style=\"text-align: right;\">\n",
       "      <th></th>\n",
       "      <th>Word</th>\n",
       "      <th>Positive_Frequency</th>\n",
       "      <th>Negative_Frequency</th>\n",
       "      <th>Neutral_Frequency</th>\n",
       "      <th>Average_Frequency</th>\n",
       "      <th>Total_Frequency</th>\n",
       "    </tr>\n",
       "  </thead>\n",
       "  <tbody>\n",
       "    <tr>\n",
       "      <th>2307</th>\n",
       "      <td>eur</td>\n",
       "      <td>582</td>\n",
       "      <td>0</td>\n",
       "      <td>293</td>\n",
       "      <td>291.666667</td>\n",
       "      <td>875</td>\n",
       "    </tr>\n",
       "    <tr>\n",
       "      <th>783</th>\n",
       "      <td>company</td>\n",
       "      <td>232</td>\n",
       "      <td>5</td>\n",
       "      <td>509</td>\n",
       "      <td>248.666667</td>\n",
       "      <td>746</td>\n",
       "    </tr>\n",
       "    <tr>\n",
       "      <th>7282</th>\n",
       "      <td>sale</td>\n",
       "      <td>229</td>\n",
       "      <td>17</td>\n",
       "      <td>177</td>\n",
       "      <td>141.000000</td>\n",
       "      <td>423</td>\n",
       "    </tr>\n",
       "    <tr>\n",
       "      <th>8547</th>\n",
       "      <td>share</td>\n",
       "      <td>113</td>\n",
       "      <td>28</td>\n",
       "      <td>281</td>\n",
       "      <td>140.666667</td>\n",
       "      <td>422</td>\n",
       "    </tr>\n",
       "    <tr>\n",
       "      <th>2651</th>\n",
       "      <td>said</td>\n",
       "      <td>194</td>\n",
       "      <td>0</td>\n",
       "      <td>194</td>\n",
       "      <td>129.333333</td>\n",
       "      <td>388</td>\n",
       "    </tr>\n",
       "    <tr>\n",
       "      <th>6617</th>\n",
       "      <td>mn</td>\n",
       "      <td>257</td>\n",
       "      <td>0</td>\n",
       "      <td>92</td>\n",
       "      <td>116.333333</td>\n",
       "      <td>349</td>\n",
       "    </tr>\n",
       "    <tr>\n",
       "      <th>7199</th>\n",
       "      <td>finnish</td>\n",
       "      <td>177</td>\n",
       "      <td>0</td>\n",
       "      <td>172</td>\n",
       "      <td>116.333333</td>\n",
       "      <td>349</td>\n",
       "    </tr>\n",
       "    <tr>\n",
       "      <th>5234</th>\n",
       "      <td>million</td>\n",
       "      <td>164</td>\n",
       "      <td>5</td>\n",
       "      <td>177</td>\n",
       "      <td>115.333333</td>\n",
       "      <td>346</td>\n",
       "    </tr>\n",
       "    <tr>\n",
       "      <th>5999</th>\n",
       "      <td>net</td>\n",
       "      <td>197</td>\n",
       "      <td>1</td>\n",
       "      <td>103</td>\n",
       "      <td>100.333333</td>\n",
       "      <td>301</td>\n",
       "    </tr>\n",
       "    <tr>\n",
       "      <th>5836</th>\n",
       "      <td>service</td>\n",
       "      <td>88</td>\n",
       "      <td>1</td>\n",
       "      <td>193</td>\n",
       "      <td>94.000000</td>\n",
       "      <td>282</td>\n",
       "    </tr>\n",
       "    <tr>\n",
       "      <th>3395</th>\n",
       "      <td>profit</td>\n",
       "      <td>208</td>\n",
       "      <td>7</td>\n",
       "      <td>63</td>\n",
       "      <td>92.666667</td>\n",
       "      <td>278</td>\n",
       "    </tr>\n",
       "    <tr>\n",
       "      <th>1842</th>\n",
       "      <td>group</td>\n",
       "      <td>104</td>\n",
       "      <td>2</td>\n",
       "      <td>169</td>\n",
       "      <td>91.666667</td>\n",
       "      <td>275</td>\n",
       "    </tr>\n",
       "    <tr>\n",
       "      <th>822</th>\n",
       "      <td>market</td>\n",
       "      <td>91</td>\n",
       "      <td>13</td>\n",
       "      <td>164</td>\n",
       "      <td>89.333333</td>\n",
       "      <td>268</td>\n",
       "    </tr>\n",
       "    <tr>\n",
       "      <th>3356</th>\n",
       "      <td>new</td>\n",
       "      <td>96</td>\n",
       "      <td>9</td>\n",
       "      <td>159</td>\n",
       "      <td>88.000000</td>\n",
       "      <td>264</td>\n",
       "    </tr>\n",
       "    <tr>\n",
       "      <th>749</th>\n",
       "      <td>finland</td>\n",
       "      <td>65</td>\n",
       "      <td>0</td>\n",
       "      <td>191</td>\n",
       "      <td>85.333333</td>\n",
       "      <td>256</td>\n",
       "    </tr>\n",
       "    <tr>\n",
       "      <th>1452</th>\n",
       "      <td>business</td>\n",
       "      <td>72</td>\n",
       "      <td>2</td>\n",
       "      <td>179</td>\n",
       "      <td>84.333333</td>\n",
       "      <td>253</td>\n",
       "    </tr>\n",
       "    <tr>\n",
       "      <th>8570</th>\n",
       "      <td>year</td>\n",
       "      <td>167</td>\n",
       "      <td>6</td>\n",
       "      <td>76</td>\n",
       "      <td>83.000000</td>\n",
       "      <td>249</td>\n",
       "    </tr>\n",
       "    <tr>\n",
       "      <th>506</th>\n",
       "      <td>mln</td>\n",
       "      <td>125</td>\n",
       "      <td>2</td>\n",
       "      <td>91</td>\n",
       "      <td>72.666667</td>\n",
       "      <td>218</td>\n",
       "    </tr>\n",
       "    <tr>\n",
       "      <th>7564</th>\n",
       "      <td>operating</td>\n",
       "      <td>120</td>\n",
       "      <td>0</td>\n",
       "      <td>73</td>\n",
       "      <td>64.333333</td>\n",
       "      <td>193</td>\n",
       "    </tr>\n",
       "    <tr>\n",
       "      <th>770</th>\n",
       "      <td>also</td>\n",
       "      <td>63</td>\n",
       "      <td>2</td>\n",
       "      <td>122</td>\n",
       "      <td>62.333333</td>\n",
       "      <td>187</td>\n",
       "    </tr>\n",
       "    <tr>\n",
       "      <th>7709</th>\n",
       "      <td>euro</td>\n",
       "      <td>87</td>\n",
       "      <td>1</td>\n",
       "      <td>92</td>\n",
       "      <td>60.000000</td>\n",
       "      <td>180</td>\n",
       "    </tr>\n",
       "    <tr>\n",
       "      <th>9125</th>\n",
       "      <td>period</td>\n",
       "      <td>141</td>\n",
       "      <td>0</td>\n",
       "      <td>33</td>\n",
       "      <td>58.000000</td>\n",
       "      <td>174</td>\n",
       "    </tr>\n",
       "    <tr>\n",
       "      <th>7909</th>\n",
       "      <td>quarter</td>\n",
       "      <td>116</td>\n",
       "      <td>2</td>\n",
       "      <td>47</td>\n",
       "      <td>55.000000</td>\n",
       "      <td>165</td>\n",
       "    </tr>\n",
       "    <tr>\n",
       "      <th>451</th>\n",
       "      <td>oyj</td>\n",
       "      <td>83</td>\n",
       "      <td>0</td>\n",
       "      <td>71</td>\n",
       "      <td>51.333333</td>\n",
       "      <td>154</td>\n",
       "    </tr>\n",
       "    <tr>\n",
       "      <th>4250</th>\n",
       "      <td>product</td>\n",
       "      <td>43</td>\n",
       "      <td>2</td>\n",
       "      <td>106</td>\n",
       "      <td>50.333333</td>\n",
       "      <td>151</td>\n",
       "    </tr>\n",
       "  </tbody>\n",
       "</table>\n",
       "</div>"
      ],
      "text/plain": [
       "           Word Positive_Frequency Negative_Frequency Neutral_Frequency  \\\n",
       "2307        eur                582                  0               293   \n",
       "783     company                232                  5               509   \n",
       "7282       sale                229                 17               177   \n",
       "8547      share                113                 28               281   \n",
       "2651       said                194                  0               194   \n",
       "6617         mn                257                  0                92   \n",
       "7199    finnish                177                  0               172   \n",
       "5234    million                164                  5               177   \n",
       "5999        net                197                  1               103   \n",
       "5836    service                 88                  1               193   \n",
       "3395     profit                208                  7                63   \n",
       "1842      group                104                  2               169   \n",
       "822      market                 91                 13               164   \n",
       "3356        new                 96                  9               159   \n",
       "749     finland                 65                  0               191   \n",
       "1452   business                 72                  2               179   \n",
       "8570       year                167                  6                76   \n",
       "506         mln                125                  2                91   \n",
       "7564  operating                120                  0                73   \n",
       "770        also                 63                  2               122   \n",
       "7709       euro                 87                  1                92   \n",
       "9125     period                141                  0                33   \n",
       "7909    quarter                116                  2                47   \n",
       "451         oyj                 83                  0                71   \n",
       "4250    product                 43                  2               106   \n",
       "\n",
       "      Average_Frequency Total_Frequency  \n",
       "2307         291.666667             875  \n",
       "783          248.666667             746  \n",
       "7282         141.000000             423  \n",
       "8547         140.666667             422  \n",
       "2651         129.333333             388  \n",
       "6617         116.333333             349  \n",
       "7199         116.333333             349  \n",
       "5234         115.333333             346  \n",
       "5999         100.333333             301  \n",
       "5836          94.000000             282  \n",
       "3395          92.666667             278  \n",
       "1842          91.666667             275  \n",
       "822           89.333333             268  \n",
       "3356          88.000000             264  \n",
       "749           85.333333             256  \n",
       "1452          84.333333             253  \n",
       "8570          83.000000             249  \n",
       "506           72.666667             218  \n",
       "7564          64.333333             193  \n",
       "770           62.333333             187  \n",
       "7709          60.000000             180  \n",
       "9125          58.000000             174  \n",
       "7909          55.000000             165  \n",
       "451           51.333333             154  \n",
       "4250          50.333333             151  "
      ]
     },
     "execution_count": 443,
     "metadata": {},
     "output_type": "execute_result"
    }
   ],
   "source": [
    "df_freq_words.head(25)"
   ]
  },
  {
   "cell_type": "code",
   "execution_count": 444,
   "id": "59ac0949",
   "metadata": {},
   "outputs": [],
   "source": [
    "most_freq_words=df_freq_words[(df_freq_words['Total_Frequency']>200)]"
   ]
  },
  {
   "cell_type": "code",
   "execution_count": 445,
   "id": "ef94f4f3",
   "metadata": {},
   "outputs": [],
   "source": [
    "most_freq_words = set(most_freq_words['Word'].tolist())"
   ]
  },
  {
   "cell_type": "code",
   "execution_count": 446,
   "id": "dd009182",
   "metadata": {},
   "outputs": [
    {
     "data": {
      "text/plain": [
       "{'business',\n",
       " 'company',\n",
       " 'eur',\n",
       " 'finland',\n",
       " 'finnish',\n",
       " 'group',\n",
       " 'market',\n",
       " 'million',\n",
       " 'mln',\n",
       " 'mn',\n",
       " 'net',\n",
       " 'new',\n",
       " 'profit',\n",
       " 'said',\n",
       " 'sale',\n",
       " 'service',\n",
       " 'share',\n",
       " 'year'}"
      ]
     },
     "execution_count": 446,
     "metadata": {},
     "output_type": "execute_result"
    }
   ],
   "source": [
    "most_freq_words"
   ]
  },
  {
   "cell_type": "code",
   "execution_count": 447,
   "id": "17ed54ce",
   "metadata": {},
   "outputs": [],
   "source": [
    "def remove_words(text):\n",
    "    words = text.split()\n",
    "    filtered_words = [word for word in words if word not in most_freq_words]\n",
    "    filtered_text = ' '.join(filtered_words)\n",
    "    return filtered_text"
   ]
  },
  {
   "cell_type": "code",
   "execution_count": 448,
   "id": "65e87c62",
   "metadata": {},
   "outputs": [
    {
     "data": {
      "text/html": [
       "<div>\n",
       "<style scoped>\n",
       "    .dataframe tbody tr th:only-of-type {\n",
       "        vertical-align: middle;\n",
       "    }\n",
       "\n",
       "    .dataframe tbody tr th {\n",
       "        vertical-align: top;\n",
       "    }\n",
       "\n",
       "    .dataframe thead th {\n",
       "        text-align: right;\n",
       "    }\n",
       "</style>\n",
       "<table border=\"1\" class=\"dataframe\">\n",
       "  <thead>\n",
       "    <tr style=\"text-align: right;\">\n",
       "      <th></th>\n",
       "      <th>Sentence</th>\n",
       "      <th>Sentiment</th>\n",
       "    </tr>\n",
       "  </thead>\n",
       "  <tbody>\n",
       "    <tr>\n",
       "      <th>0</th>\n",
       "      <td>geosolutions technology leverage benefon gps s...</td>\n",
       "      <td>positive</td>\n",
       "    </tr>\n",
       "    <tr>\n",
       "      <th>1</th>\n",
       "      <td>esi low bk real possibility</td>\n",
       "      <td>negative</td>\n",
       "    </tr>\n",
       "    <tr>\n",
       "      <th>2</th>\n",
       "      <td>last quarter componenta doubled eurm eurm peri...</td>\n",
       "      <td>positive</td>\n",
       "    </tr>\n",
       "    <tr>\n",
       "      <th>3</th>\n",
       "      <td>according finnishrussian chamber commerce majo...</td>\n",
       "      <td>neutral</td>\n",
       "    </tr>\n",
       "    <tr>\n",
       "      <th>4</th>\n",
       "      <td>swedish buyout firm sold remaining percent sta...</td>\n",
       "      <td>neutral</td>\n",
       "    </tr>\n",
       "    <tr>\n",
       "      <th>...</th>\n",
       "      <td>...</td>\n",
       "      <td>...</td>\n",
       "    </tr>\n",
       "    <tr>\n",
       "      <th>4803</th>\n",
       "      <td>hsbc say unit book charge settlement</td>\n",
       "      <td>negative</td>\n",
       "    </tr>\n",
       "    <tr>\n",
       "      <th>4804</th>\n",
       "      <td>daily mail parent talk potential partner joint...</td>\n",
       "      <td>positive</td>\n",
       "    </tr>\n",
       "    <tr>\n",
       "      <th>4805</th>\n",
       "      <td>nordic walking first used summer training meth...</td>\n",
       "      <td>neutral</td>\n",
       "    </tr>\n",
       "    <tr>\n",
       "      <th>4806</th>\n",
       "      <td>according shipping viking line eu decision sig...</td>\n",
       "      <td>neutral</td>\n",
       "    </tr>\n",
       "    <tr>\n",
       "      <th>4807</th>\n",
       "      <td>helsinki afx kci konecranes order four hot met...</td>\n",
       "      <td>positive</td>\n",
       "    </tr>\n",
       "  </tbody>\n",
       "</table>\n",
       "<p>4808 rows × 2 columns</p>\n",
       "</div>"
      ],
      "text/plain": [
       "                                               Sentence Sentiment\n",
       "0     geosolutions technology leverage benefon gps s...  positive\n",
       "1                           esi low bk real possibility  negative\n",
       "2     last quarter componenta doubled eurm eurm peri...  positive\n",
       "3     according finnishrussian chamber commerce majo...   neutral\n",
       "4     swedish buyout firm sold remaining percent sta...   neutral\n",
       "...                                                 ...       ...\n",
       "4803               hsbc say unit book charge settlement  negative\n",
       "4804  daily mail parent talk potential partner joint...  positive\n",
       "4805  nordic walking first used summer training meth...   neutral\n",
       "4806  according shipping viking line eu decision sig...   neutral\n",
       "4807  helsinki afx kci konecranes order four hot met...  positive\n",
       "\n",
       "[4808 rows x 2 columns]"
      ]
     },
     "execution_count": 448,
     "metadata": {},
     "output_type": "execute_result"
    }
   ],
   "source": [
    "df['Sentence'] = df['Sentence'].apply(remove_words)\n",
    "df"
   ]
  },
  {
   "cell_type": "raw",
   "id": "d3b85646",
   "metadata": {},
   "source": [
    "least_freq = df_freq_words[(df_freq_words['Positive_Frequency'] <3) & (df_freq_words['Negative_Frequency'] <3) & (df_freq_words['Neutral_Frequency'] <3) & (df_freq_words['Average_Frequency'] <0.9)]\n",
    "least_freq = least_freq.reset_index()\n",
    "least_freq = least_freq.drop('index', axis=1)\n",
    "least_freq"
   ]
  },
  {
   "cell_type": "raw",
   "id": "fc19022b",
   "metadata": {},
   "source": [
    "least_freq_words = set(least_freq['Word'].tolist())"
   ]
  },
  {
   "cell_type": "raw",
   "id": "837c468e",
   "metadata": {},
   "source": [
    "def remove_least_freq_words(text):\n",
    "    words = text.split()\n",
    "    filtered_words = [word for word in words if word not in least_freq_words]\n",
    "    filtered_text = ' '.join(filtered_words)\n",
    "    return filtered_text"
   ]
  },
  {
   "cell_type": "raw",
   "id": "124fdc41",
   "metadata": {},
   "source": [
    "df['Sentence'] = df['Sentence'].apply(remove_least_freq_words)\n",
    "df"
   ]
  },
  {
   "cell_type": "markdown",
   "id": "31595056",
   "metadata": {},
   "source": [
    "df.info()"
   ]
  },
  {
   "cell_type": "markdown",
   "id": "f0dcb1f2",
   "metadata": {},
   "source": [
    "# TF-IDF"
   ]
  },
  {
   "cell_type": "code",
   "execution_count": 450,
   "id": "98cba49d",
   "metadata": {},
   "outputs": [],
   "source": [
    "from sklearn.feature_extraction.text import CountVectorizer, TfidfVectorizer\n",
    "tfidf = TfidfVectorizer()"
   ]
  },
  {
   "cell_type": "code",
   "execution_count": 451,
   "id": "1f6f9b11",
   "metadata": {},
   "outputs": [],
   "source": [
    "X=tfidf.fit_transform(df['Sentence'])"
   ]
  },
  {
   "cell_type": "code",
   "execution_count": 452,
   "id": "4a58eaab",
   "metadata": {},
   "outputs": [
    {
     "data": {
      "text/plain": [
       "array([ 768, 1458], dtype=int64)"
      ]
     },
     "execution_count": 452,
     "metadata": {},
     "output_type": "execute_result"
    }
   ],
   "source": [
    "empty_rows = (X.sum(axis=1) == 0).nonzero()[0]\n",
    "empty_rows"
   ]
  },
  {
   "cell_type": "code",
   "execution_count": 453,
   "id": "d79e4141",
   "metadata": {},
   "outputs": [
    {
     "name": "stdout",
     "output_type": "stream",
     "text": [
      "     Sentence Sentiment\n",
      "768             neutral\n",
      "1458            neutral\n"
     ]
    }
   ],
   "source": [
    "print(df.iloc[empty_rows])"
   ]
  },
  {
   "cell_type": "code",
   "execution_count": 454,
   "id": "eca1d5b6",
   "metadata": {},
   "outputs": [],
   "source": [
    "df.drop(empty_rows, inplace=True)"
   ]
  },
  {
   "cell_type": "code",
   "execution_count": 455,
   "id": "22b88ab0",
   "metadata": {},
   "outputs": [],
   "source": [
    "X=tfidf.fit_transform(df['Sentence'])"
   ]
  },
  {
   "cell_type": "code",
   "execution_count": 456,
   "id": "30c5523c",
   "metadata": {},
   "outputs": [
    {
     "data": {
      "text/plain": [
       "array([], dtype=int64)"
      ]
     },
     "execution_count": 456,
     "metadata": {},
     "output_type": "execute_result"
    }
   ],
   "source": [
    "empty_rows = (X.sum(axis=1) == 0).nonzero()[0]\n",
    "empty_rows"
   ]
  },
  {
   "cell_type": "code",
   "execution_count": 457,
   "id": "c931c756",
   "metadata": {},
   "outputs": [
    {
     "data": {
      "text/plain": [
       "Counter({2: 1852, 0: 346, 1: 2608})"
      ]
     },
     "execution_count": 457,
     "metadata": {},
     "output_type": "execute_result"
    }
   ],
   "source": [
    "from sklearn.preprocessing import LabelEncoder\n",
    "le = LabelEncoder()\n",
    "y=le.fit_transform(df[\"Sentiment\"])\n",
    "from collections import Counter\n",
    "Counter(y)"
   ]
  },
  {
   "cell_type": "code",
   "execution_count": 458,
   "id": "308c9f26",
   "metadata": {},
   "outputs": [],
   "source": [
    "class_labels = list(le.classes_)\n",
    "class_labels_numerical = list(le.transform(class_labels))"
   ]
  },
  {
   "cell_type": "code",
   "execution_count": 459,
   "id": "1acca38a",
   "metadata": {},
   "outputs": [
    {
     "name": "stdout",
     "output_type": "stream",
     "text": [
      "Class labels: ['negative', 'neutral', 'positive']\n",
      "Numerical labels: [0, 1, 2]\n"
     ]
    }
   ],
   "source": [
    "print(\"Class labels:\", class_labels)\n",
    "print(\"Numerical labels:\", class_labels_numerical)"
   ]
  },
  {
   "cell_type": "markdown",
   "id": "f50de253",
   "metadata": {},
   "source": [
    "# SMOTEENN- combination of up and down sampling"
   ]
  },
  {
   "cell_type": "code",
   "execution_count": 460,
   "id": "40a05b54",
   "metadata": {},
   "outputs": [],
   "source": [
    "from imblearn.combine import SMOTEENN\n",
    "smote_enn = SMOTEENN(sampling_strategy={0: 2606, 1: 2900, 2: 2800},random_state=42)\n",
    "X_resampled, y_resampled = smote_enn.fit_resample(X, y)"
   ]
  },
  {
   "cell_type": "code",
   "execution_count": 461,
   "id": "0745d326",
   "metadata": {},
   "outputs": [
    {
     "data": {
      "text/plain": [
       "Counter({0: 2603, 1: 857, 2: 1683})"
      ]
     },
     "execution_count": 461,
     "metadata": {},
     "output_type": "execute_result"
    }
   ],
   "source": [
    "Counter(y_resampled)"
   ]
  },
  {
   "cell_type": "markdown",
   "id": "913b775e",
   "metadata": {},
   "source": [
    "# train_test_split"
   ]
  },
  {
   "cell_type": "code",
   "execution_count": 462,
   "id": "45f0c4f2",
   "metadata": {},
   "outputs": [],
   "source": [
    "from sklearn.model_selection import train_test_split"
   ]
  },
  {
   "cell_type": "code",
   "execution_count": 463,
   "id": "0901ad20",
   "metadata": {},
   "outputs": [],
   "source": [
    "X_train, X_test, y_train, y_test = train_test_split(X_resampled, y_resampled, test_size = 0.20, random_state = 42)"
   ]
  },
  {
   "cell_type": "markdown",
   "id": "ff9a2659",
   "metadata": {},
   "source": [
    "# Support Vector Machine"
   ]
  },
  {
   "cell_type": "code",
   "execution_count": 464,
   "id": "225b29ff",
   "metadata": {},
   "outputs": [],
   "source": [
    "from sklearn.pipeline import Pipeline\n",
    "from sklearn.metrics import classification_report, confusion_matrix\n",
    "from sklearn.svm import SVC"
   ]
  },
  {
   "cell_type": "code",
   "execution_count": 465,
   "id": "a0b56a52",
   "metadata": {},
   "outputs": [],
   "source": [
    "SupportVector = SVC()"
   ]
  },
  {
   "cell_type": "code",
   "execution_count": 466,
   "id": "20d2ca13",
   "metadata": {},
   "outputs": [
    {
     "data": {
      "text/plain": [
       "SVC()"
      ]
     },
     "execution_count": 466,
     "metadata": {},
     "output_type": "execute_result"
    }
   ],
   "source": [
    "SupportVector.fit(X_train, y_train)"
   ]
  },
  {
   "cell_type": "code",
   "execution_count": 467,
   "id": "13569d46",
   "metadata": {
    "scrolled": true
   },
   "outputs": [
    {
     "name": "stdout",
     "output_type": "stream",
     "text": [
      "              precision    recall  f1-score   support\n",
      "\n",
      "           0       1.00      1.00      1.00       538\n",
      "           1       0.98      0.96      0.97       147\n",
      "           2       0.98      0.99      0.98       344\n",
      "\n",
      "    accuracy                           0.99      1029\n",
      "   macro avg       0.98      0.98      0.98      1029\n",
      "weighted avg       0.99      0.99      0.99      1029\n",
      "\n"
     ]
    }
   ],
   "source": [
    "y_pred_SV = SupportVector.predict(X_test)\n",
    "print(classification_report(y_test, y_pred_SV))"
   ]
  },
  {
   "cell_type": "code",
   "execution_count": 468,
   "id": "b1cfb7e0",
   "metadata": {},
   "outputs": [
    {
     "data": {
      "text/plain": [
       "array([[536,   0,   2],\n",
       "       [  0, 141,   6],\n",
       "       [  2,   3, 339]], dtype=int64)"
      ]
     },
     "execution_count": 468,
     "metadata": {},
     "output_type": "execute_result"
    }
   ],
   "source": [
    "confusion_matrix(y_test, y_pred_SV)"
   ]
  },
  {
   "cell_type": "code",
   "execution_count": 469,
   "id": "6c7e2134",
   "metadata": {},
   "outputs": [
    {
     "name": "stdout",
     "output_type": "stream",
     "text": [
      "              precision    recall  f1-score   support\n",
      "\n",
      "           0       1.00      1.00      1.00      2065\n",
      "           1       1.00      1.00      1.00       710\n",
      "           2       1.00      1.00      1.00      1339\n",
      "\n",
      "    accuracy                           1.00      4114\n",
      "   macro avg       1.00      1.00      1.00      4114\n",
      "weighted avg       1.00      1.00      1.00      4114\n",
      "\n"
     ]
    }
   ],
   "source": [
    "y_train_pred_SV = SupportVector.predict(X_train)\n",
    "print(classification_report(y_train, y_train_pred_SV))"
   ]
  },
  {
   "cell_type": "code",
   "execution_count": 470,
   "id": "03400db4",
   "metadata": {},
   "outputs": [],
   "source": [
    "from sklearn.model_selection import cross_val_score"
   ]
  },
  {
   "cell_type": "code",
   "execution_count": 471,
   "id": "ac46e2d9",
   "metadata": {},
   "outputs": [
    {
     "data": {
      "text/plain": [
       "array([0.98298906, 0.97934386, 0.98298906, 0.97691373, 0.98175182])"
      ]
     },
     "execution_count": 471,
     "metadata": {},
     "output_type": "execute_result"
    }
   ],
   "source": [
    "scores_SV = cross_val_score(SupportVector, X_train, y_train, cv=5)\n",
    "scores_SV"
   ]
  },
  {
   "cell_type": "code",
   "execution_count": 250,
   "id": "9f54c256",
   "metadata": {},
   "outputs": [
    {
     "name": "stdout",
     "output_type": "stream",
     "text": [
      "Mean CV score: 0.9807975095564562\n",
      "Standard deviation: 0.0023542884355375417\n"
     ]
    }
   ],
   "source": [
    "print(f\"Mean CV score: {np.mean(scores_SV)}\")\n",
    "print(f\"Standard deviation: {np.std(scores_SV)}\")"
   ]
  },
  {
   "cell_type": "code",
   "execution_count": 251,
   "id": "edd3d0b3",
   "metadata": {},
   "outputs": [],
   "source": [
    "from sklearn.model_selection import learning_curve\n",
    "import matplotlib.pyplot as plt"
   ]
  },
  {
   "cell_type": "code",
   "execution_count": 497,
   "id": "9e5b1f38",
   "metadata": {},
   "outputs": [],
   "source": [
    "def plot_learning_curve(estimator, title, X, y, ylim=None, cv=None,\n",
    "                        n_jobs=-1, train_sizes=np.linspace(.1, 1.0, 5)):\n",
    "    plt.figure()\n",
    "    plt.title(title)\n",
    "    if ylim is not None:\n",
    "        plt.ylim(*ylim)\n",
    "    plt.xlabel(\"Training examples\")\n",
    "    plt.ylabel(\"Score\")\n",
    "    train_sizes, train_scores, test_scores = learning_curve(\n",
    "        estimator, X, y, cv=cv, n_jobs=n_jobs, train_sizes=train_sizes)\n",
    "    train_scores_mean = np.mean(train_scores, axis=1)\n",
    "    train_scores_std = np.std(train_scores, axis=1)\n",
    "    test_scores_mean = np.mean(test_scores, axis=1)\n",
    "    test_scores_std = np.std(test_scores, axis=1)\n",
    "    plt.grid()\n",
    "    \n",
    "    # Plot the training and validation scores\n",
    "    plt.fill_between(train_sizes, train_scores_mean - train_scores_std,\n",
    "                     train_scores_mean + train_scores_std, alpha=0.1,\n",
    "                     color=\"r\")\n",
    "    plt.fill_between(train_sizes, test_scores_mean - test_scores_std,\n",
    "                     test_scores_mean + test_scores_std, alpha=0.1, color=\"g\")\n",
    "    plt.plot(train_sizes, train_scores_mean, 'o-', color=\"r\",\n",
    "             label=\"Training score\")\n",
    "    plt.plot(train_sizes, test_scores_mean, 'o-', color=\"g\",\n",
    "             label=\"Cross-validation score\")\n",
    "\n",
    "    plt.legend(loc=\"best\")\n",
    "    return plt"
   ]
  },
  {
   "cell_type": "code",
   "execution_count": 119,
   "id": "03d1a02a",
   "metadata": {},
   "outputs": [
    {
     "data": {
      "image/png": "[encoded data removed]",
      "text/plain": [
       "<Figure size 640x480 with 1 Axes>"
      ]
     },
     "metadata": {},
     "output_type": "display_data"
    }
   ],
   "source": [
    "title = \"Learning Curves (SVM)\"\n",
    "plot_learning_curve(SupportVector, title, X_train, y_train, cv=5)\n",
    "plt.show()"
   ]
  },
  {
   "cell_type": "markdown",
   "id": "9e7cf0ec",
   "metadata": {},
   "source": [
    "# Random Forest "
   ]
  },
  {
   "cell_type": "code",
   "execution_count": 472,
   "id": "a737c92f",
   "metadata": {},
   "outputs": [],
   "source": [
    "from sklearn.ensemble import RandomForestClassifier"
   ]
  },
  {
   "cell_type": "code",
   "execution_count": 473,
   "id": "a5a16703",
   "metadata": {},
   "outputs": [],
   "source": [
    "RandomForest = RandomForestClassifier()"
   ]
  },
  {
   "cell_type": "code",
   "execution_count": 474,
   "id": "cc753621",
   "metadata": {},
   "outputs": [
    {
     "data": {
      "text/plain": [
       "RandomForestClassifier()"
      ]
     },
     "execution_count": 474,
     "metadata": {},
     "output_type": "execute_result"
    }
   ],
   "source": [
    "RandomForest.fit(X_train, y_train)"
   ]
  },
  {
   "cell_type": "code",
   "execution_count": 475,
   "id": "3f10dcec",
   "metadata": {},
   "outputs": [
    {
     "name": "stdout",
     "output_type": "stream",
     "text": [
      "              precision    recall  f1-score   support\n",
      "\n",
      "           0       0.98      0.99      0.98       538\n",
      "           1       0.94      0.88      0.91       147\n",
      "           2       0.93      0.94      0.94       344\n",
      "\n",
      "    accuracy                           0.96      1029\n",
      "   macro avg       0.95      0.94      0.94      1029\n",
      "weighted avg       0.96      0.96      0.96      1029\n",
      "\n"
     ]
    }
   ],
   "source": [
    "y_pred_RF = RandomForest.predict(X_test)\n",
    "print(classification_report(y_test, y_pred_RF))"
   ]
  },
  {
   "cell_type": "code",
   "execution_count": 476,
   "id": "572fdb8d",
   "metadata": {},
   "outputs": [
    {
     "data": {
      "text/plain": [
       "array([[530,   0,   8],\n",
       "       [  1, 130,  16],\n",
       "       [ 10,   9, 325]], dtype=int64)"
      ]
     },
     "execution_count": 476,
     "metadata": {},
     "output_type": "execute_result"
    }
   ],
   "source": [
    "confusion_matrix(y_test, y_pred_RF)"
   ]
  },
  {
   "cell_type": "code",
   "execution_count": 477,
   "id": "2d93af0d",
   "metadata": {},
   "outputs": [
    {
     "name": "stdout",
     "output_type": "stream",
     "text": [
      "              precision    recall  f1-score   support\n",
      "\n",
      "           0       1.00      1.00      1.00      2065\n",
      "           1       1.00      1.00      1.00       710\n",
      "           2       1.00      1.00      1.00      1339\n",
      "\n",
      "    accuracy                           1.00      4114\n",
      "   macro avg       1.00      1.00      1.00      4114\n",
      "weighted avg       1.00      1.00      1.00      4114\n",
      "\n"
     ]
    }
   ],
   "source": [
    "y_train_pred_RF = RandomForest.predict(X_train)\n",
    "print(classification_report(y_train, y_train_pred_RF))"
   ]
  },
  {
   "cell_type": "code",
   "execution_count": 258,
   "id": "f6c22242",
   "metadata": {},
   "outputs": [
    {
     "data": {
      "text/plain": [
       "array([0.94896719, 0.93924666, 0.93438639, 0.95382746, 0.94038929])"
      ]
     },
     "execution_count": 258,
     "metadata": {},
     "output_type": "execute_result"
    }
   ],
   "source": [
    "scores_RF = cross_val_score(RandomForest, X_train, y_train, cv=5)\n",
    "scores_RF"
   ]
  },
  {
   "cell_type": "code",
   "execution_count": 127,
   "id": "4025931d",
   "metadata": {},
   "outputs": [
    {
     "name": "stdout",
     "output_type": "stream",
     "text": [
      "Mean CV score: 0.944822366690022\n",
      "Standard deviation: 0.005934445566945273\n"
     ]
    }
   ],
   "source": [
    "print(f\"Mean CV score: {np.mean(scores_RF)}\")\n",
    "print(f\"Standard deviation: {np.std(scores_RF)}\")"
   ]
  },
  {
   "cell_type": "code",
   "execution_count": 128,
   "id": "7fa5ae3a",
   "metadata": {},
   "outputs": [
    {
     "data": {
      "image/png": "[encoded data removed]",
      "text/plain": [
       "<Figure size 640x480 with 1 Axes>"
      ]
     },
     "metadata": {},
     "output_type": "display_data"
    }
   ],
   "source": [
    "title3 = \"Learning Curves (RF)\"\n",
    "plot_learning_curve(RandomForest, title3, X_train, y_train, cv=5)\n",
    "plt.show()"
   ]
  },
  {
   "cell_type": "markdown",
   "id": "baa4ed98",
   "metadata": {},
   "source": [
    "# Naive Bayes 'MultinomialNB' "
   ]
  },
  {
   "cell_type": "code",
   "execution_count": 478,
   "id": "355baecb",
   "metadata": {},
   "outputs": [],
   "source": [
    "from sklearn.naive_bayes import MultinomialNB"
   ]
  },
  {
   "cell_type": "code",
   "execution_count": 479,
   "id": "0d6ee66b",
   "metadata": {},
   "outputs": [],
   "source": [
    "Multinomial =  MultinomialNB()"
   ]
  },
  {
   "cell_type": "code",
   "execution_count": 480,
   "id": "9d525709",
   "metadata": {},
   "outputs": [
    {
     "data": {
      "text/plain": [
       "MultinomialNB()"
      ]
     },
     "execution_count": 480,
     "metadata": {},
     "output_type": "execute_result"
    }
   ],
   "source": [
    "Multinomial.fit(X_train, y_train)"
   ]
  },
  {
   "cell_type": "code",
   "execution_count": 481,
   "id": "ad851bb8",
   "metadata": {},
   "outputs": [
    {
     "name": "stdout",
     "output_type": "stream",
     "text": [
      "              precision    recall  f1-score   support\n",
      "\n",
      "           0       0.90      1.00      0.95       538\n",
      "           1       1.00      0.77      0.87       147\n",
      "           2       0.91      0.84      0.87       344\n",
      "\n",
      "    accuracy                           0.91      1029\n",
      "   macro avg       0.94      0.87      0.90      1029\n",
      "weighted avg       0.92      0.91      0.91      1029\n",
      "\n"
     ]
    }
   ],
   "source": [
    "y_pred_M = Multinomial.predict(X_test)\n",
    "print(classification_report(y_test, y_pred_M))"
   ]
  },
  {
   "cell_type": "code",
   "execution_count": 482,
   "id": "86ca33d0",
   "metadata": {},
   "outputs": [
    {
     "data": {
      "text/plain": [
       "array([[538,   0,   0],\n",
       "       [  6, 113,  28],\n",
       "       [ 56,   0, 288]], dtype=int64)"
      ]
     },
     "execution_count": 482,
     "metadata": {},
     "output_type": "execute_result"
    }
   ],
   "source": [
    "confusion_matrix(y_test, y_pred_M)"
   ]
  },
  {
   "cell_type": "code",
   "execution_count": 483,
   "id": "0a034944",
   "metadata": {},
   "outputs": [
    {
     "name": "stdout",
     "output_type": "stream",
     "text": [
      "              precision    recall  f1-score   support\n",
      "\n",
      "           0       0.94      1.00      0.97      2065\n",
      "           1       1.00      0.87      0.93       710\n",
      "           2       0.94      0.91      0.93      1339\n",
      "\n",
      "    accuracy                           0.95      4114\n",
      "   macro avg       0.96      0.93      0.94      4114\n",
      "weighted avg       0.95      0.95      0.95      4114\n",
      "\n"
     ]
    }
   ],
   "source": [
    "y_train_pred_M = Multinomial.predict(X_train)\n",
    "print(classification_report(y_train, y_train_pred_M))"
   ]
  },
  {
   "cell_type": "code",
   "execution_count": 265,
   "id": "7f8cdce5",
   "metadata": {},
   "outputs": [
    {
     "data": {
      "text/plain": [
       "array([0.89307412, 0.90400972, 0.90157959, 0.88942892, 0.89537713])"
      ]
     },
     "execution_count": 265,
     "metadata": {},
     "output_type": "execute_result"
    }
   ],
   "source": [
    "scores_M = cross_val_score(Multinomial, X_train, y_train, cv=5)\n",
    "scores_M"
   ]
  },
  {
   "cell_type": "code",
   "execution_count": 266,
   "id": "2ced7ef7",
   "metadata": {},
   "outputs": [
    {
     "name": "stdout",
     "output_type": "stream",
     "text": [
      "Mean CV score: 0.89669389480655\n",
      "Standard deviation: 0.005385310040463709\n"
     ]
    }
   ],
   "source": [
    "print(f\"Mean CV score: {np.mean(scores_M)}\")\n",
    "print(f\"Standard deviation: {np.std(scores_M)}\")"
   ]
  },
  {
   "cell_type": "code",
   "execution_count": 267,
   "id": "bf2af1c3",
   "metadata": {},
   "outputs": [
    {
     "data": {
      "image/png": "[encoded data removed]",
      "text/plain": [
       "<Figure size 640x480 with 1 Axes>"
      ]
     },
     "metadata": {},
     "output_type": "display_data"
    }
   ],
   "source": [
    "title2 = \"Learning Curves (Multinomial)\"\n",
    "plot_learning_curve(Multinomial, title2, X_train, y_train, cv=5)\n",
    "plt.show()"
   ]
  },
  {
   "cell_type": "markdown",
   "id": "21020dae",
   "metadata": {},
   "source": [
    "# Logistic Regression"
   ]
  },
  {
   "cell_type": "code",
   "execution_count": 484,
   "id": "171fbe91",
   "metadata": {},
   "outputs": [],
   "source": [
    "from sklearn.linear_model import LogisticRegression"
   ]
  },
  {
   "cell_type": "code",
   "execution_count": 485,
   "id": "45f626bf",
   "metadata": {},
   "outputs": [],
   "source": [
    "LogisticRegression = LogisticRegression()"
   ]
  },
  {
   "cell_type": "code",
   "execution_count": 486,
   "id": "3ff2b951",
   "metadata": {},
   "outputs": [
    {
     "data": {
      "text/plain": [
       "LogisticRegression()"
      ]
     },
     "execution_count": 486,
     "metadata": {},
     "output_type": "execute_result"
    }
   ],
   "source": [
    "LogisticRegression.fit(X_train, y_train)"
   ]
  },
  {
   "cell_type": "code",
   "execution_count": 487,
   "id": "c099f9c7",
   "metadata": {},
   "outputs": [
    {
     "name": "stdout",
     "output_type": "stream",
     "text": [
      "              precision    recall  f1-score   support\n",
      "\n",
      "           0       0.97      1.00      0.98       538\n",
      "           1       0.97      0.91      0.94       147\n",
      "           2       0.96      0.94      0.95       344\n",
      "\n",
      "    accuracy                           0.97      1029\n",
      "   macro avg       0.97      0.95      0.96      1029\n",
      "weighted avg       0.97      0.97      0.97      1029\n",
      "\n"
     ]
    }
   ],
   "source": [
    "y_pred_LR = LogisticRegression.predict(X_test)\n",
    "print(classification_report(y_test, y_pred_LR))"
   ]
  },
  {
   "cell_type": "code",
   "execution_count": 488,
   "id": "a3093595",
   "metadata": {},
   "outputs": [
    {
     "data": {
      "text/plain": [
       "array([[538,   0,   0],\n",
       "       [  0, 134,  13],\n",
       "       [ 18,   4, 322]], dtype=int64)"
      ]
     },
     "execution_count": 488,
     "metadata": {},
     "output_type": "execute_result"
    }
   ],
   "source": [
    "confusion_matrix(y_test, y_pred_LR)"
   ]
  },
  {
   "cell_type": "code",
   "execution_count": 489,
   "id": "baf5a048",
   "metadata": {},
   "outputs": [
    {
     "name": "stdout",
     "output_type": "stream",
     "text": [
      "              precision    recall  f1-score   support\n",
      "\n",
      "           0       0.99      1.00      1.00      2065\n",
      "           1       0.99      0.97      0.98       710\n",
      "           2       0.98      0.98      0.98      1339\n",
      "\n",
      "    accuracy                           0.99      4114\n",
      "   macro avg       0.99      0.98      0.99      4114\n",
      "weighted avg       0.99      0.99      0.99      4114\n",
      "\n"
     ]
    }
   ],
   "source": [
    "y_train_pred_LR = LogisticRegression.predict(X_train)\n",
    "print(classification_report(y_train, y_train_pred_LR))"
   ]
  },
  {
   "cell_type": "code",
   "execution_count": 490,
   "id": "aa90fa2d",
   "metadata": {},
   "outputs": [
    {
     "data": {
      "text/plain": [
       "array([0.95868773, 0.94896719, 0.95504253, 0.94775213, 0.95255474])"
      ]
     },
     "execution_count": 490,
     "metadata": {},
     "output_type": "execute_result"
    }
   ],
   "source": [
    "scores_LR = cross_val_score(LogisticRegression, X_train, y_train, cv=5)\n",
    "scores_LR"
   ]
  },
  {
   "cell_type": "code",
   "execution_count": 491,
   "id": "b8343175",
   "metadata": {},
   "outputs": [
    {
     "name": "stdout",
     "output_type": "stream",
     "text": [
      "Mean CV score: 0.9526008638504315\n",
      "Standard deviation: 0.003993183648171913\n"
     ]
    }
   ],
   "source": [
    "print(f\"Mean CV score: {np.mean(scores_LR)}\")\n",
    "print(f\"Standard deviation: {np.std(scores_LR)}\")"
   ]
  },
  {
   "cell_type": "code",
   "execution_count": 276,
   "id": "38d3c122",
   "metadata": {},
   "outputs": [
    {
     "data": {
      "image/png": "[encoded data removed]",
      "text/plain": [
       "<Figure size 640x480 with 1 Axes>"
      ]
     },
     "metadata": {},
     "output_type": "display_data"
    }
   ],
   "source": [
    "title4 = \"Learning Curves (LR)\"\n",
    "plot_learning_curve(LogisticRegression, title4, X_train, y_train, cv=5)\n",
    "plt.show()"
   ]
  },
  {
   "cell_type": "markdown",
   "id": "8adb7ff9",
   "metadata": {},
   "source": [
    "# XGboost"
   ]
  },
  {
   "cell_type": "code",
   "execution_count": 493,
   "id": "3a6726e6",
   "metadata": {},
   "outputs": [
    {
     "name": "stdout",
     "output_type": "stream",
     "text": [
      "Train accuracy:0.9992707826932425\n",
      "Test accuracy:0.9484936831875608\n",
      "              precision    recall  f1-score   support\n",
      "\n",
      "           0       0.97      0.99      0.98       538\n",
      "           1       0.88      0.91      0.90       147\n",
      "           2       0.94      0.91      0.92       344\n",
      "\n",
      "    accuracy                           0.95      1029\n",
      "   macro avg       0.93      0.93      0.93      1029\n",
      "weighted avg       0.95      0.95      0.95      1029\n",
      "\n"
     ]
    }
   ],
   "source": [
    "import xgboost as xgb\n",
    "from sklearn.preprocessing import LabelEncoder\n",
    "xgb_clf = xgb.XGBClassifier(learning_rate=0.5, max_depth=5, n_estimators=200)\n",
    "xgb_clf.fit(X_train, y_train)\n",
    "y_pred_xg=xgb_clf.predict(X_test)\n",
    "print('Train accuracy:{}'.format(xgb_clf.score(X_train,y_train)))\n",
    "print('Test accuracy:{}'.format(xgb_clf.score(X_test,y_test)))\n",
    "\n",
    "print(metrics.classification_report(y_test,y_pred_xg))"
   ]
  },
  {
   "cell_type": "code",
   "execution_count": 494,
   "id": "c91b4995",
   "metadata": {},
   "outputs": [
    {
     "data": {
      "text/plain": [
       "array([[530,   1,   7],\n",
       "       [  1, 134,  12],\n",
       "       [ 15,  17, 312]], dtype=int64)"
      ]
     },
     "execution_count": 494,
     "metadata": {},
     "output_type": "execute_result"
    }
   ],
   "source": [
    "confusion_matrix(y_test, y_pred_xg)"
   ]
  },
  {
   "cell_type": "code",
   "execution_count": 495,
   "id": "46b91a35",
   "metadata": {},
   "outputs": [
    {
     "data": {
      "text/plain": [
       "array([0.93681652, 0.94410693, 0.93560146, 0.94410693, 0.94525547])"
      ]
     },
     "execution_count": 495,
     "metadata": {},
     "output_type": "execute_result"
    }
   ],
   "source": [
    "scores_xg = cross_val_score(xgb_clf, X_train, y_train, cv=5)\n",
    "scores_xg"
   ]
  },
  {
   "cell_type": "code",
   "execution_count": 496,
   "id": "05a49b88",
   "metadata": {},
   "outputs": [
    {
     "name": "stdout",
     "output_type": "stream",
     "text": [
      "Mean CV score: 0.9411774618406932\n",
      "Standard deviation: 0.004096420262837837\n"
     ]
    }
   ],
   "source": [
    "print(f\"Mean CV score: {np.mean(scores_xg)}\")\n",
    "print(f\"Standard deviation: {np.std(scores_xg)}\")"
   ]
  },
  {
   "cell_type": "code",
   "execution_count": 498,
   "id": "a6a3f689",
   "metadata": {},
   "outputs": [
    {
     "data": {
      "image/png": "[encoded data removed]",
      "text/plain": [
       "<Figure size 640x480 with 1 Axes>"
      ]
     },
     "metadata": {},
     "output_type": "display_data"
    }
   ],
   "source": [
    "title5 = \"Learning Curves (Xg)\"\n",
    "plot_learning_curve(xgb_clf, title5, X_train, y_train, cv=5)\n",
    "plt.show()"
   ]
  },
  {
   "cell_type": "code",
   "execution_count": 279,
   "id": "3895fe70",
   "metadata": {},
   "outputs": [],
   "source": [
    "def predict_sentiment(text):\n",
    "    if text is None:\n",
    "        return ''\n",
    "    text = re.sub('<[^<]+?>', '', text)\n",
    "    text = re.sub(r'http\\S+', '', text)\n",
    "    text = re.sub('[^A-Za-z]', ' ', text.lower())\n",
    "    words = text.split()\n",
    "    words = [lemmatizer.lemmatize(word) for word in words if word not in stop_words]\n",
    "    words = [word for word in words if word is not None]\n",
    "    text = ' '.join(words)\n",
    "    text_tfidf = tfidf.transform([text])\n",
    "    prediction = LogisticRegression.predict(text_tfidf)\n",
    "    \n",
    "    # Convert the predicted label to the corresponding sentiment class\n",
    "    if prediction == 0:\n",
    "        return \"negative\"\n",
    "    elif prediction == 1:\n",
    "        return \"neutral\"\n",
    "    elif prediction == 2:\n",
    "        return \"positive\"\n",
    "    else:\n",
    "        return \"\""
   ]
  },
  {
   "cell_type": "code",
   "execution_count": 280,
   "id": "5c19aea7",
   "metadata": {},
   "outputs": [
    {
     "data": {
      "text/plain": [
       "'positive'"
      ]
     },
     "execution_count": 280,
     "metadata": {},
     "output_type": "execute_result"
    }
   ],
   "source": [
    "predict_sentiment('his company was very bad in the starting, but now he has improved so much in all aspects')"
   ]
  },
  {
   "cell_type": "code",
   "execution_count": 281,
   "id": "3df48c76",
   "metadata": {},
   "outputs": [
    {
     "data": {
      "text/plain": [
       "'negative'"
      ]
     },
     "execution_count": 281,
     "metadata": {},
     "output_type": "execute_result"
    }
   ],
   "source": [
    "predict_sentiment(\"company is bad\")"
   ]
  },
  {
   "cell_type": "code",
   "execution_count": 285,
   "id": "ee15c007",
   "metadata": {},
   "outputs": [
    {
     "data": {
      "text/plain": [
       "'positive'"
      ]
     },
     "execution_count": 285,
     "metadata": {},
     "output_type": "execute_result"
    }
   ],
   "source": [
    "predict_sentiment(\"company is not performing that well\")"
   ]
  },
  {
   "cell_type": "markdown",
   "id": "7c4efe18",
   "metadata": {},
   "source": [
    "# Results of Model using Tf-idf"
   ]
  },
  {
   "cell_type": "code",
   "execution_count": 500,
   "id": "0e6d02db",
   "metadata": {},
   "outputs": [],
   "source": [
    "res1={'Models':['logistic regression','SVM','Naive bayes','Random forest','Xgboost'],\n",
    "    'Training Acc':[LogisticRegression.score(X_train,y_train),SupportVector.score(X_train,y_train),Multinomial.score(X_train,y_train),\n",
    "                    RandomForest.score(X_train,y_train),xgb_clf.score(X_train,y_train)],\n",
    "    'Testing Acc':[LogisticRegression.score(X_test,y_test),SupportVector.score(X_test,y_test),Multinomial.score(X_test,y_test),\n",
    "                    RandomForest.score(X_test,y_test),xgb_clf.score(X_test,y_test)]}"
   ]
  },
  {
   "cell_type": "code",
   "execution_count": 501,
   "id": "f1969130",
   "metadata": {},
   "outputs": [
    {
     "data": {
      "text/html": [
       "<div>\n",
       "<style scoped>\n",
       "    .dataframe tbody tr th:only-of-type {\n",
       "        vertical-align: middle;\n",
       "    }\n",
       "\n",
       "    .dataframe tbody tr th {\n",
       "        vertical-align: top;\n",
       "    }\n",
       "\n",
       "    .dataframe thead th {\n",
       "        text-align: right;\n",
       "    }\n",
       "</style>\n",
       "<table border=\"1\" class=\"dataframe\">\n",
       "  <thead>\n",
       "    <tr style=\"text-align: right;\">\n",
       "      <th></th>\n",
       "      <th>Models</th>\n",
       "      <th>Training Acc</th>\n",
       "      <th>Testing Acc</th>\n",
       "    </tr>\n",
       "  </thead>\n",
       "  <tbody>\n",
       "    <tr>\n",
       "      <th>0</th>\n",
       "      <td>logistic regression</td>\n",
       "      <td>0.988576</td>\n",
       "      <td>0.965986</td>\n",
       "    </tr>\n",
       "    <tr>\n",
       "      <th>1</th>\n",
       "      <td>SVM</td>\n",
       "      <td>0.999757</td>\n",
       "      <td>0.987366</td>\n",
       "    </tr>\n",
       "    <tr>\n",
       "      <th>2</th>\n",
       "      <td>Naive bayes</td>\n",
       "      <td>0.949198</td>\n",
       "      <td>0.912536</td>\n",
       "    </tr>\n",
       "    <tr>\n",
       "      <th>3</th>\n",
       "      <td>Random forest</td>\n",
       "      <td>1.000000</td>\n",
       "      <td>0.957240</td>\n",
       "    </tr>\n",
       "    <tr>\n",
       "      <th>4</th>\n",
       "      <td>Xgboost</td>\n",
       "      <td>0.999271</td>\n",
       "      <td>0.948494</td>\n",
       "    </tr>\n",
       "  </tbody>\n",
       "</table>\n",
       "</div>"
      ],
      "text/plain": [
       "                Models  Training Acc  Testing Acc\n",
       "0  logistic regression      0.988576     0.965986\n",
       "1                  SVM      0.999757     0.987366\n",
       "2          Naive bayes      0.949198     0.912536\n",
       "3        Random forest      1.000000     0.957240\n",
       "4              Xgboost      0.999271     0.948494"
      ]
     },
     "execution_count": 501,
     "metadata": {},
     "output_type": "execute_result"
    }
   ],
   "source": [
    "res1=pd.DataFrame(res1)\n",
    "res1"
   ]
  },
  {
   "cell_type": "markdown",
   "id": "47970250",
   "metadata": {},
   "source": [
    "### conclusions:\n",
    "- SVM outperformed the other models on both the train and test sets, achieving an accuracy of 99.98% on the train set and 98.74% on the test set.\n",
    "- Logistic regression also performed well, achieving an accuracy of 98.86% on the train set and 96.60% on the test set.\n",
    "- Naive Bayes had the lowest performance of the models evaluated, achieving an accuracy of 94.92% on the train set and 91.25% on the test set.\n",
    "- Random forest and XGBoost both achieved perfect accuracy on the train set, but their test set performances were not as high as the other models."
   ]
  },
  {
   "cell_type": "markdown",
   "id": "1b8bc622",
   "metadata": {},
   "source": [
    "# Word2vec model trained on a given corpus"
   ]
  },
  {
   "cell_type": "code",
   "execution_count": 337,
   "id": "8e783a4c",
   "metadata": {},
   "outputs": [],
   "source": [
    "import gensim"
   ]
  },
  {
   "cell_type": "code",
   "execution_count": 427,
   "id": "8a4360c6",
   "metadata": {},
   "outputs": [
    {
     "data": {
      "text/html": [
       "<div>\n",
       "<style scoped>\n",
       "    .dataframe tbody tr th:only-of-type {\n",
       "        vertical-align: middle;\n",
       "    }\n",
       "\n",
       "    .dataframe tbody tr th {\n",
       "        vertical-align: top;\n",
       "    }\n",
       "\n",
       "    .dataframe thead th {\n",
       "        text-align: right;\n",
       "    }\n",
       "</style>\n",
       "<table border=\"1\" class=\"dataframe\">\n",
       "  <thead>\n",
       "    <tr style=\"text-align: right;\">\n",
       "      <th></th>\n",
       "      <th>Sentence</th>\n",
       "      <th>Sentiment</th>\n",
       "    </tr>\n",
       "  </thead>\n",
       "  <tbody>\n",
       "    <tr>\n",
       "      <th>0</th>\n",
       "      <td>geosolutions technology leverage benefon gps s...</td>\n",
       "      <td>positive</td>\n",
       "    </tr>\n",
       "    <tr>\n",
       "      <th>1</th>\n",
       "      <td>esi low bk real possibility</td>\n",
       "      <td>negative</td>\n",
       "    </tr>\n",
       "    <tr>\n",
       "      <th>2</th>\n",
       "      <td>last quarter componenta net sale doubled eurm ...</td>\n",
       "      <td>positive</td>\n",
       "    </tr>\n",
       "    <tr>\n",
       "      <th>3</th>\n",
       "      <td>according finnishrussian chamber commerce majo...</td>\n",
       "      <td>neutral</td>\n",
       "    </tr>\n",
       "    <tr>\n",
       "      <th>4</th>\n",
       "      <td>swedish buyout firm sold remaining percent sta...</td>\n",
       "      <td>neutral</td>\n",
       "    </tr>\n",
       "  </tbody>\n",
       "</table>\n",
       "</div>"
      ],
      "text/plain": [
       "                                            Sentence Sentiment\n",
       "0  geosolutions technology leverage benefon gps s...  positive\n",
       "1                        esi low bk real possibility  negative\n",
       "2  last quarter componenta net sale doubled eurm ...  positive\n",
       "3  according finnishrussian chamber commerce majo...   neutral\n",
       "4  swedish buyout firm sold remaining percent sta...   neutral"
      ]
     },
     "execution_count": 427,
     "metadata": {},
     "output_type": "execute_result"
    }
   ],
   "source": [
    "df=pd.read_csv(\"C:\\\\Users\\\\lenovo\\\\ds project\\\\Sentimental analysis\\\\Preprocessed\")\n",
    "df.head()"
   ]
  },
  {
   "cell_type": "code",
   "execution_count": 338,
   "id": "91f8614c",
   "metadata": {},
   "outputs": [
    {
     "data": {
      "text/plain": [
       "(994191, 1060640)"
      ]
     },
     "execution_count": 338,
     "metadata": {},
     "output_type": "execute_result"
    }
   ],
   "source": [
    "tokenize=df['Sentence'].apply(lambda x: x.split())\n",
    "w2vec_model=gensim.models.Word2Vec(tokenize,min_count = 1, vector_size= 300, window = 20, sg = 1)\n",
    "w2vec_model.train(tokenize,total_examples= len(df['Sentence']),epochs=20)"
   ]
  },
  {
   "cell_type": "code",
   "execution_count": 502,
   "id": "69b35216",
   "metadata": {},
   "outputs": [
    {
     "name": "stdout",
     "output_type": "stream",
     "text": [
      "sample words  ['eur', 'company', 'sale', 'share', 'said', 'finnish', 'mn', 'million', 'net', 'service', 'profit', 'group', 'market', 'new', 'finland', 'business', 'year', 'mln', 'operating', 'also', 'euro', 'period', 'quarter', 'oyj', 'product', 'price', 'today', 'contract', 'operation', 'solution', 'first', 'stock', 'order', 'plant', 'total', 'bank', 'percent', 'customer', 'unit', 'financial', 'system', 'investment', 'nokia', 'helsinki', 'technology', 'corporation', 'project', 'well', 'increase', 'capital']\n"
     ]
    }
   ],
   "source": [
    "w2v_words = list(w2vec_model.wv.key_to_index)\n",
    "print(\"sample words \", w2v_words[0:50])"
   ]
  },
  {
   "cell_type": "code",
   "execution_count": 340,
   "id": "6783c142",
   "metadata": {},
   "outputs": [],
   "source": [
    "from tqdm import tqdm"
   ]
  },
  {
   "cell_type": "code",
   "execution_count": 341,
   "id": "a73f6952",
   "metadata": {},
   "outputs": [
    {
     "name": "stderr",
     "output_type": "stream",
     "text": [
      "100%|██████████| 4808/4808 [00:01<00:00, 3485.44it/s]"
     ]
    },
    {
     "name": "stdout",
     "output_type": "stream",
     "text": [
      "4808\n",
      "300\n"
     ]
    },
    {
     "name": "stderr",
     "output_type": "stream",
     "text": [
      "\n"
     ]
    }
   ],
   "source": [
    "vector=[]\n",
    "for sent in tqdm(tokenize):\n",
    "    sent_vec=np.zeros(300)\n",
    "    count =0\n",
    "    for word in sent:\n",
    "        if word in w2v_words:\n",
    "            vec = w2vec_model.wv[word]\n",
    "            sent_vec += vec \n",
    "            count += 1\n",
    "    if count != 0:\n",
    "        sent_vec /= count #normalize\n",
    "    vector.append(sent_vec)\n",
    "print(len(vector))\n",
    "print(len(vector[0]))"
   ]
  },
  {
   "cell_type": "code",
   "execution_count": 342,
   "id": "72e9b260",
   "metadata": {},
   "outputs": [
    {
     "name": "stdout",
     "output_type": "stream",
     "text": [
      "number of unique words 300\n"
     ]
    },
    {
     "data": {
      "text/html": [
       "<div>\n",
       "<style scoped>\n",
       "    .dataframe tbody tr th:only-of-type {\n",
       "        vertical-align: middle;\n",
       "    }\n",
       "\n",
       "    .dataframe tbody tr th {\n",
       "        vertical-align: top;\n",
       "    }\n",
       "\n",
       "    .dataframe thead th {\n",
       "        text-align: right;\n",
       "    }\n",
       "</style>\n",
       "<table border=\"1\" class=\"dataframe\">\n",
       "  <thead>\n",
       "    <tr style=\"text-align: right;\">\n",
       "      <th></th>\n",
       "      <th>0</th>\n",
       "      <th>1</th>\n",
       "      <th>2</th>\n",
       "      <th>3</th>\n",
       "      <th>4</th>\n",
       "      <th>5</th>\n",
       "      <th>6</th>\n",
       "      <th>7</th>\n",
       "      <th>8</th>\n",
       "      <th>9</th>\n",
       "      <th>...</th>\n",
       "      <th>291</th>\n",
       "      <th>292</th>\n",
       "      <th>293</th>\n",
       "      <th>294</th>\n",
       "      <th>295</th>\n",
       "      <th>296</th>\n",
       "      <th>297</th>\n",
       "      <th>298</th>\n",
       "      <th>299</th>\n",
       "      <th>Sentiment</th>\n",
       "    </tr>\n",
       "  </thead>\n",
       "  <tbody>\n",
       "    <tr>\n",
       "      <th>0</th>\n",
       "      <td>0.051993</td>\n",
       "      <td>0.205470</td>\n",
       "      <td>-0.146695</td>\n",
       "      <td>-0.066692</td>\n",
       "      <td>0.149312</td>\n",
       "      <td>-0.053328</td>\n",
       "      <td>0.237406</td>\n",
       "      <td>0.095073</td>\n",
       "      <td>0.070245</td>\n",
       "      <td>0.289885</td>\n",
       "      <td>...</td>\n",
       "      <td>-0.092050</td>\n",
       "      <td>-0.054107</td>\n",
       "      <td>-0.215877</td>\n",
       "      <td>0.014916</td>\n",
       "      <td>0.247070</td>\n",
       "      <td>-0.137912</td>\n",
       "      <td>-0.369084</td>\n",
       "      <td>0.239584</td>\n",
       "      <td>-0.200615</td>\n",
       "      <td>positive</td>\n",
       "    </tr>\n",
       "    <tr>\n",
       "      <th>1</th>\n",
       "      <td>0.060170</td>\n",
       "      <td>0.201082</td>\n",
       "      <td>-0.030183</td>\n",
       "      <td>-0.069314</td>\n",
       "      <td>-0.054035</td>\n",
       "      <td>-0.122460</td>\n",
       "      <td>0.116592</td>\n",
       "      <td>0.132076</td>\n",
       "      <td>0.116671</td>\n",
       "      <td>0.237436</td>\n",
       "      <td>...</td>\n",
       "      <td>0.065770</td>\n",
       "      <td>0.090555</td>\n",
       "      <td>0.112967</td>\n",
       "      <td>-0.091651</td>\n",
       "      <td>0.077324</td>\n",
       "      <td>-0.140859</td>\n",
       "      <td>-0.230884</td>\n",
       "      <td>-0.018099</td>\n",
       "      <td>-0.061237</td>\n",
       "      <td>negative</td>\n",
       "    </tr>\n",
       "    <tr>\n",
       "      <th>2</th>\n",
       "      <td>0.036741</td>\n",
       "      <td>0.219314</td>\n",
       "      <td>0.069621</td>\n",
       "      <td>-0.032180</td>\n",
       "      <td>-0.247043</td>\n",
       "      <td>-0.298961</td>\n",
       "      <td>0.235629</td>\n",
       "      <td>0.556083</td>\n",
       "      <td>0.110123</td>\n",
       "      <td>-0.115775</td>\n",
       "      <td>...</td>\n",
       "      <td>0.042062</td>\n",
       "      <td>0.336031</td>\n",
       "      <td>-0.114556</td>\n",
       "      <td>0.206566</td>\n",
       "      <td>0.229084</td>\n",
       "      <td>0.168387</td>\n",
       "      <td>-0.098181</td>\n",
       "      <td>0.313787</td>\n",
       "      <td>-0.220824</td>\n",
       "      <td>positive</td>\n",
       "    </tr>\n",
       "    <tr>\n",
       "      <th>3</th>\n",
       "      <td>-0.099989</td>\n",
       "      <td>0.041704</td>\n",
       "      <td>-0.091103</td>\n",
       "      <td>0.006331</td>\n",
       "      <td>0.104697</td>\n",
       "      <td>-0.164659</td>\n",
       "      <td>0.299665</td>\n",
       "      <td>0.280232</td>\n",
       "      <td>0.097952</td>\n",
       "      <td>-0.089352</td>\n",
       "      <td>...</td>\n",
       "      <td>0.122241</td>\n",
       "      <td>0.153014</td>\n",
       "      <td>-0.146669</td>\n",
       "      <td>0.301991</td>\n",
       "      <td>0.095738</td>\n",
       "      <td>-0.059081</td>\n",
       "      <td>-0.064860</td>\n",
       "      <td>0.227062</td>\n",
       "      <td>-0.054326</td>\n",
       "      <td>neutral</td>\n",
       "    </tr>\n",
       "    <tr>\n",
       "      <th>4</th>\n",
       "      <td>0.009769</td>\n",
       "      <td>0.141573</td>\n",
       "      <td>-0.028817</td>\n",
       "      <td>0.010308</td>\n",
       "      <td>0.075954</td>\n",
       "      <td>-0.201315</td>\n",
       "      <td>0.210566</td>\n",
       "      <td>0.276928</td>\n",
       "      <td>0.222923</td>\n",
       "      <td>0.133650</td>\n",
       "      <td>...</td>\n",
       "      <td>0.002528</td>\n",
       "      <td>0.118519</td>\n",
       "      <td>-0.054019</td>\n",
       "      <td>0.188689</td>\n",
       "      <td>0.033953</td>\n",
       "      <td>-0.092099</td>\n",
       "      <td>-0.042903</td>\n",
       "      <td>0.267651</td>\n",
       "      <td>0.027494</td>\n",
       "      <td>neutral</td>\n",
       "    </tr>\n",
       "    <tr>\n",
       "      <th>...</th>\n",
       "      <td>...</td>\n",
       "      <td>...</td>\n",
       "      <td>...</td>\n",
       "      <td>...</td>\n",
       "      <td>...</td>\n",
       "      <td>...</td>\n",
       "      <td>...</td>\n",
       "      <td>...</td>\n",
       "      <td>...</td>\n",
       "      <td>...</td>\n",
       "      <td>...</td>\n",
       "      <td>...</td>\n",
       "      <td>...</td>\n",
       "      <td>...</td>\n",
       "      <td>...</td>\n",
       "      <td>...</td>\n",
       "      <td>...</td>\n",
       "      <td>...</td>\n",
       "      <td>...</td>\n",
       "      <td>...</td>\n",
       "      <td>...</td>\n",
       "    </tr>\n",
       "    <tr>\n",
       "      <th>4803</th>\n",
       "      <td>0.120477</td>\n",
       "      <td>0.110659</td>\n",
       "      <td>0.044507</td>\n",
       "      <td>0.081643</td>\n",
       "      <td>-0.216456</td>\n",
       "      <td>-0.184520</td>\n",
       "      <td>0.199279</td>\n",
       "      <td>0.421531</td>\n",
       "      <td>0.009146</td>\n",
       "      <td>0.091394</td>\n",
       "      <td>...</td>\n",
       "      <td>0.100989</td>\n",
       "      <td>0.164606</td>\n",
       "      <td>-0.144213</td>\n",
       "      <td>0.027027</td>\n",
       "      <td>0.121088</td>\n",
       "      <td>0.013710</td>\n",
       "      <td>-0.274884</td>\n",
       "      <td>0.177417</td>\n",
       "      <td>0.077016</td>\n",
       "      <td>negative</td>\n",
       "    </tr>\n",
       "    <tr>\n",
       "      <th>4804</th>\n",
       "      <td>-0.250786</td>\n",
       "      <td>0.021771</td>\n",
       "      <td>-0.002468</td>\n",
       "      <td>0.028527</td>\n",
       "      <td>0.198769</td>\n",
       "      <td>-0.251557</td>\n",
       "      <td>0.119608</td>\n",
       "      <td>0.275086</td>\n",
       "      <td>0.105998</td>\n",
       "      <td>-0.165235</td>\n",
       "      <td>...</td>\n",
       "      <td>0.103670</td>\n",
       "      <td>0.102335</td>\n",
       "      <td>0.042494</td>\n",
       "      <td>0.063885</td>\n",
       "      <td>-0.035783</td>\n",
       "      <td>-0.138909</td>\n",
       "      <td>-0.331681</td>\n",
       "      <td>0.154721</td>\n",
       "      <td>0.132847</td>\n",
       "      <td>positive</td>\n",
       "    </tr>\n",
       "    <tr>\n",
       "      <th>4805</th>\n",
       "      <td>0.194964</td>\n",
       "      <td>0.080300</td>\n",
       "      <td>-0.171894</td>\n",
       "      <td>0.015649</td>\n",
       "      <td>-0.082475</td>\n",
       "      <td>-0.059565</td>\n",
       "      <td>0.210120</td>\n",
       "      <td>0.183619</td>\n",
       "      <td>-0.004958</td>\n",
       "      <td>0.059688</td>\n",
       "      <td>...</td>\n",
       "      <td>0.115594</td>\n",
       "      <td>0.210580</td>\n",
       "      <td>-0.000363</td>\n",
       "      <td>0.338203</td>\n",
       "      <td>0.259531</td>\n",
       "      <td>-0.091038</td>\n",
       "      <td>-0.034069</td>\n",
       "      <td>0.129871</td>\n",
       "      <td>-0.035594</td>\n",
       "      <td>neutral</td>\n",
       "    </tr>\n",
       "    <tr>\n",
       "      <th>4806</th>\n",
       "      <td>0.005820</td>\n",
       "      <td>-0.016518</td>\n",
       "      <td>-0.018959</td>\n",
       "      <td>0.085076</td>\n",
       "      <td>-0.000623</td>\n",
       "      <td>-0.192236</td>\n",
       "      <td>0.200391</td>\n",
       "      <td>0.357618</td>\n",
       "      <td>0.205793</td>\n",
       "      <td>-0.203538</td>\n",
       "      <td>...</td>\n",
       "      <td>0.187151</td>\n",
       "      <td>0.151626</td>\n",
       "      <td>-0.022935</td>\n",
       "      <td>0.279387</td>\n",
       "      <td>0.201272</td>\n",
       "      <td>-0.144929</td>\n",
       "      <td>-0.043234</td>\n",
       "      <td>0.149943</td>\n",
       "      <td>0.056526</td>\n",
       "      <td>neutral</td>\n",
       "    </tr>\n",
       "    <tr>\n",
       "      <th>4807</th>\n",
       "      <td>0.046081</td>\n",
       "      <td>0.074279</td>\n",
       "      <td>0.266209</td>\n",
       "      <td>-0.247710</td>\n",
       "      <td>-0.091083</td>\n",
       "      <td>-0.371084</td>\n",
       "      <td>0.162559</td>\n",
       "      <td>0.397906</td>\n",
       "      <td>0.101196</td>\n",
       "      <td>0.070639</td>\n",
       "      <td>...</td>\n",
       "      <td>0.013660</td>\n",
       "      <td>0.210134</td>\n",
       "      <td>-0.104960</td>\n",
       "      <td>0.069277</td>\n",
       "      <td>0.145884</td>\n",
       "      <td>-0.022053</td>\n",
       "      <td>-0.058957</td>\n",
       "      <td>0.098452</td>\n",
       "      <td>0.160879</td>\n",
       "      <td>positive</td>\n",
       "    </tr>\n",
       "  </tbody>\n",
       "</table>\n",
       "<p>4808 rows × 301 columns</p>\n",
       "</div>"
      ],
      "text/plain": [
       "             0         1         2         3         4         5         6  \\\n",
       "0     0.051993  0.205470 -0.146695 -0.066692  0.149312 -0.053328  0.237406   \n",
       "1     0.060170  0.201082 -0.030183 -0.069314 -0.054035 -0.122460  0.116592   \n",
       "2     0.036741  0.219314  0.069621 -0.032180 -0.247043 -0.298961  0.235629   \n",
       "3    -0.099989  0.041704 -0.091103  0.006331  0.104697 -0.164659  0.299665   \n",
       "4     0.009769  0.141573 -0.028817  0.010308  0.075954 -0.201315  0.210566   \n",
       "...        ...       ...       ...       ...       ...       ...       ...   \n",
       "4803  0.120477  0.110659  0.044507  0.081643 -0.216456 -0.184520  0.199279   \n",
       "4804 -0.250786  0.021771 -0.002468  0.028527  0.198769 -0.251557  0.119608   \n",
       "4805  0.194964  0.080300 -0.171894  0.015649 -0.082475 -0.059565  0.210120   \n",
       "4806  0.005820 -0.016518 -0.018959  0.085076 -0.000623 -0.192236  0.200391   \n",
       "4807  0.046081  0.074279  0.266209 -0.247710 -0.091083 -0.371084  0.162559   \n",
       "\n",
       "             7         8         9  ...       291       292       293  \\\n",
       "0     0.095073  0.070245  0.289885  ... -0.092050 -0.054107 -0.215877   \n",
       "1     0.132076  0.116671  0.237436  ...  0.065770  0.090555  0.112967   \n",
       "2     0.556083  0.110123 -0.115775  ...  0.042062  0.336031 -0.114556   \n",
       "3     0.280232  0.097952 -0.089352  ...  0.122241  0.153014 -0.146669   \n",
       "4     0.276928  0.222923  0.133650  ...  0.002528  0.118519 -0.054019   \n",
       "...        ...       ...       ...  ...       ...       ...       ...   \n",
       "4803  0.421531  0.009146  0.091394  ...  0.100989  0.164606 -0.144213   \n",
       "4804  0.275086  0.105998 -0.165235  ...  0.103670  0.102335  0.042494   \n",
       "4805  0.183619 -0.004958  0.059688  ...  0.115594  0.210580 -0.000363   \n",
       "4806  0.357618  0.205793 -0.203538  ...  0.187151  0.151626 -0.022935   \n",
       "4807  0.397906  0.101196  0.070639  ...  0.013660  0.210134 -0.104960   \n",
       "\n",
       "           294       295       296       297       298       299  Sentiment  \n",
       "0     0.014916  0.247070 -0.137912 -0.369084  0.239584 -0.200615   positive  \n",
       "1    -0.091651  0.077324 -0.140859 -0.230884 -0.018099 -0.061237   negative  \n",
       "2     0.206566  0.229084  0.168387 -0.098181  0.313787 -0.220824   positive  \n",
       "3     0.301991  0.095738 -0.059081 -0.064860  0.227062 -0.054326    neutral  \n",
       "4     0.188689  0.033953 -0.092099 -0.042903  0.267651  0.027494    neutral  \n",
       "...        ...       ...       ...       ...       ...       ...        ...  \n",
       "4803  0.027027  0.121088  0.013710 -0.274884  0.177417  0.077016   negative  \n",
       "4804  0.063885 -0.035783 -0.138909 -0.331681  0.154721  0.132847   positive  \n",
       "4805  0.338203  0.259531 -0.091038 -0.034069  0.129871 -0.035594    neutral  \n",
       "4806  0.279387  0.201272 -0.144929 -0.043234  0.149943  0.056526    neutral  \n",
       "4807  0.069277  0.145884 -0.022053 -0.058957  0.098452  0.160879   positive  \n",
       "\n",
       "[4808 rows x 301 columns]"
      ]
     },
     "execution_count": 342,
     "metadata": {},
     "output_type": "execute_result"
    }
   ],
   "source": [
    "print('number of unique words',len(vector[1]))\n",
    "w2v_train=pd.DataFrame(vector)\n",
    "w2v_train['Sentiment']=df['Sentiment']\n",
    "w2v_train"
   ]
  },
  {
   "cell_type": "code",
   "execution_count": 343,
   "id": "814ef352",
   "metadata": {},
   "outputs": [
    {
     "name": "stdout",
     "output_type": "stream",
     "text": [
      "0            float64\n",
      "1            float64\n",
      "2            float64\n",
      "3            float64\n",
      "4            float64\n",
      "              ...   \n",
      "296          float64\n",
      "297          float64\n",
      "298          float64\n",
      "299          float64\n",
      "Sentiment     object\n",
      "Length: 301, dtype: object\n"
     ]
    }
   ],
   "source": [
    "print(w2v_train.dtypes)\n"
   ]
  },
  {
   "cell_type": "code",
   "execution_count": 344,
   "id": "b7177a8f",
   "metadata": {},
   "outputs": [
    {
     "data": {
      "text/plain": [
       "neutral     2610\n",
       "positive    1852\n",
       "negative     346\n",
       "Name: Sentiment, dtype: int64"
      ]
     },
     "execution_count": 344,
     "metadata": {},
     "output_type": "execute_result"
    }
   ],
   "source": [
    "w2v_train['Sentiment'].value_counts()"
   ]
  },
  {
   "cell_type": "code",
   "execution_count": 345,
   "id": "37d952f3",
   "metadata": {},
   "outputs": [],
   "source": [
    "class_mapping = {\"positive\": 1, \"neutral\": 0, \"negative\": -1}\n",
    "y = w2v_train[\"Sentiment\"].map(class_mapping).values"
   ]
  },
  {
   "cell_type": "code",
   "execution_count": 346,
   "id": "1d97cfa7",
   "metadata": {},
   "outputs": [],
   "source": [
    "w2v_train['Sentiment']=y"
   ]
  },
  {
   "cell_type": "code",
   "execution_count": 347,
   "id": "4f36c379",
   "metadata": {},
   "outputs": [
    {
     "name": "stdout",
     "output_type": "stream",
     "text": [
      "0            float64\n",
      "1            float64\n",
      "2            float64\n",
      "3            float64\n",
      "4            float64\n",
      "              ...   \n",
      "296          float64\n",
      "297          float64\n",
      "298          float64\n",
      "299          float64\n",
      "Sentiment      int64\n",
      "Length: 301, dtype: object\n"
     ]
    }
   ],
   "source": [
    "print(w2v_train.dtypes)"
   ]
  },
  {
   "cell_type": "code",
   "execution_count": 348,
   "id": "f340f673",
   "metadata": {},
   "outputs": [],
   "source": [
    "w2v_train.dropna(inplace=True)"
   ]
  },
  {
   "cell_type": "code",
   "execution_count": 349,
   "id": "1239b3ca",
   "metadata": {},
   "outputs": [
    {
     "data": {
      "text/html": [
       "<div>\n",
       "<style scoped>\n",
       "    .dataframe tbody tr th:only-of-type {\n",
       "        vertical-align: middle;\n",
       "    }\n",
       "\n",
       "    .dataframe tbody tr th {\n",
       "        vertical-align: top;\n",
       "    }\n",
       "\n",
       "    .dataframe thead th {\n",
       "        text-align: right;\n",
       "    }\n",
       "</style>\n",
       "<table border=\"1\" class=\"dataframe\">\n",
       "  <thead>\n",
       "    <tr style=\"text-align: right;\">\n",
       "      <th></th>\n",
       "      <th>0</th>\n",
       "      <th>1</th>\n",
       "      <th>2</th>\n",
       "      <th>3</th>\n",
       "      <th>4</th>\n",
       "      <th>5</th>\n",
       "      <th>6</th>\n",
       "      <th>7</th>\n",
       "      <th>8</th>\n",
       "      <th>9</th>\n",
       "      <th>...</th>\n",
       "      <th>291</th>\n",
       "      <th>292</th>\n",
       "      <th>293</th>\n",
       "      <th>294</th>\n",
       "      <th>295</th>\n",
       "      <th>296</th>\n",
       "      <th>297</th>\n",
       "      <th>298</th>\n",
       "      <th>299</th>\n",
       "      <th>Sentiment</th>\n",
       "    </tr>\n",
       "  </thead>\n",
       "  <tbody>\n",
       "    <tr>\n",
       "      <th>0</th>\n",
       "      <td>0.051993</td>\n",
       "      <td>0.205470</td>\n",
       "      <td>-0.146695</td>\n",
       "      <td>-0.066692</td>\n",
       "      <td>0.149312</td>\n",
       "      <td>-0.053328</td>\n",
       "      <td>0.237406</td>\n",
       "      <td>0.095073</td>\n",
       "      <td>0.070245</td>\n",
       "      <td>0.289885</td>\n",
       "      <td>...</td>\n",
       "      <td>-0.092050</td>\n",
       "      <td>-0.054107</td>\n",
       "      <td>-0.215877</td>\n",
       "      <td>0.014916</td>\n",
       "      <td>0.247070</td>\n",
       "      <td>-0.137912</td>\n",
       "      <td>-0.369084</td>\n",
       "      <td>0.239584</td>\n",
       "      <td>-0.200615</td>\n",
       "      <td>1</td>\n",
       "    </tr>\n",
       "    <tr>\n",
       "      <th>1</th>\n",
       "      <td>0.060170</td>\n",
       "      <td>0.201082</td>\n",
       "      <td>-0.030183</td>\n",
       "      <td>-0.069314</td>\n",
       "      <td>-0.054035</td>\n",
       "      <td>-0.122460</td>\n",
       "      <td>0.116592</td>\n",
       "      <td>0.132076</td>\n",
       "      <td>0.116671</td>\n",
       "      <td>0.237436</td>\n",
       "      <td>...</td>\n",
       "      <td>0.065770</td>\n",
       "      <td>0.090555</td>\n",
       "      <td>0.112967</td>\n",
       "      <td>-0.091651</td>\n",
       "      <td>0.077324</td>\n",
       "      <td>-0.140859</td>\n",
       "      <td>-0.230884</td>\n",
       "      <td>-0.018099</td>\n",
       "      <td>-0.061237</td>\n",
       "      <td>-1</td>\n",
       "    </tr>\n",
       "    <tr>\n",
       "      <th>2</th>\n",
       "      <td>0.036741</td>\n",
       "      <td>0.219314</td>\n",
       "      <td>0.069621</td>\n",
       "      <td>-0.032180</td>\n",
       "      <td>-0.247043</td>\n",
       "      <td>-0.298961</td>\n",
       "      <td>0.235629</td>\n",
       "      <td>0.556083</td>\n",
       "      <td>0.110123</td>\n",
       "      <td>-0.115775</td>\n",
       "      <td>...</td>\n",
       "      <td>0.042062</td>\n",
       "      <td>0.336031</td>\n",
       "      <td>-0.114556</td>\n",
       "      <td>0.206566</td>\n",
       "      <td>0.229084</td>\n",
       "      <td>0.168387</td>\n",
       "      <td>-0.098181</td>\n",
       "      <td>0.313787</td>\n",
       "      <td>-0.220824</td>\n",
       "      <td>1</td>\n",
       "    </tr>\n",
       "    <tr>\n",
       "      <th>3</th>\n",
       "      <td>-0.099989</td>\n",
       "      <td>0.041704</td>\n",
       "      <td>-0.091103</td>\n",
       "      <td>0.006331</td>\n",
       "      <td>0.104697</td>\n",
       "      <td>-0.164659</td>\n",
       "      <td>0.299665</td>\n",
       "      <td>0.280232</td>\n",
       "      <td>0.097952</td>\n",
       "      <td>-0.089352</td>\n",
       "      <td>...</td>\n",
       "      <td>0.122241</td>\n",
       "      <td>0.153014</td>\n",
       "      <td>-0.146669</td>\n",
       "      <td>0.301991</td>\n",
       "      <td>0.095738</td>\n",
       "      <td>-0.059081</td>\n",
       "      <td>-0.064860</td>\n",
       "      <td>0.227062</td>\n",
       "      <td>-0.054326</td>\n",
       "      <td>0</td>\n",
       "    </tr>\n",
       "    <tr>\n",
       "      <th>4</th>\n",
       "      <td>0.009769</td>\n",
       "      <td>0.141573</td>\n",
       "      <td>-0.028817</td>\n",
       "      <td>0.010308</td>\n",
       "      <td>0.075954</td>\n",
       "      <td>-0.201315</td>\n",
       "      <td>0.210566</td>\n",
       "      <td>0.276928</td>\n",
       "      <td>0.222923</td>\n",
       "      <td>0.133650</td>\n",
       "      <td>...</td>\n",
       "      <td>0.002528</td>\n",
       "      <td>0.118519</td>\n",
       "      <td>-0.054019</td>\n",
       "      <td>0.188689</td>\n",
       "      <td>0.033953</td>\n",
       "      <td>-0.092099</td>\n",
       "      <td>-0.042903</td>\n",
       "      <td>0.267651</td>\n",
       "      <td>0.027494</td>\n",
       "      <td>0</td>\n",
       "    </tr>\n",
       "    <tr>\n",
       "      <th>...</th>\n",
       "      <td>...</td>\n",
       "      <td>...</td>\n",
       "      <td>...</td>\n",
       "      <td>...</td>\n",
       "      <td>...</td>\n",
       "      <td>...</td>\n",
       "      <td>...</td>\n",
       "      <td>...</td>\n",
       "      <td>...</td>\n",
       "      <td>...</td>\n",
       "      <td>...</td>\n",
       "      <td>...</td>\n",
       "      <td>...</td>\n",
       "      <td>...</td>\n",
       "      <td>...</td>\n",
       "      <td>...</td>\n",
       "      <td>...</td>\n",
       "      <td>...</td>\n",
       "      <td>...</td>\n",
       "      <td>...</td>\n",
       "      <td>...</td>\n",
       "    </tr>\n",
       "    <tr>\n",
       "      <th>4803</th>\n",
       "      <td>0.120477</td>\n",
       "      <td>0.110659</td>\n",
       "      <td>0.044507</td>\n",
       "      <td>0.081643</td>\n",
       "      <td>-0.216456</td>\n",
       "      <td>-0.184520</td>\n",
       "      <td>0.199279</td>\n",
       "      <td>0.421531</td>\n",
       "      <td>0.009146</td>\n",
       "      <td>0.091394</td>\n",
       "      <td>...</td>\n",
       "      <td>0.100989</td>\n",
       "      <td>0.164606</td>\n",
       "      <td>-0.144213</td>\n",
       "      <td>0.027027</td>\n",
       "      <td>0.121088</td>\n",
       "      <td>0.013710</td>\n",
       "      <td>-0.274884</td>\n",
       "      <td>0.177417</td>\n",
       "      <td>0.077016</td>\n",
       "      <td>-1</td>\n",
       "    </tr>\n",
       "    <tr>\n",
       "      <th>4804</th>\n",
       "      <td>-0.250786</td>\n",
       "      <td>0.021771</td>\n",
       "      <td>-0.002468</td>\n",
       "      <td>0.028527</td>\n",
       "      <td>0.198769</td>\n",
       "      <td>-0.251557</td>\n",
       "      <td>0.119608</td>\n",
       "      <td>0.275086</td>\n",
       "      <td>0.105998</td>\n",
       "      <td>-0.165235</td>\n",
       "      <td>...</td>\n",
       "      <td>0.103670</td>\n",
       "      <td>0.102335</td>\n",
       "      <td>0.042494</td>\n",
       "      <td>0.063885</td>\n",
       "      <td>-0.035783</td>\n",
       "      <td>-0.138909</td>\n",
       "      <td>-0.331681</td>\n",
       "      <td>0.154721</td>\n",
       "      <td>0.132847</td>\n",
       "      <td>1</td>\n",
       "    </tr>\n",
       "    <tr>\n",
       "      <th>4805</th>\n",
       "      <td>0.194964</td>\n",
       "      <td>0.080300</td>\n",
       "      <td>-0.171894</td>\n",
       "      <td>0.015649</td>\n",
       "      <td>-0.082475</td>\n",
       "      <td>-0.059565</td>\n",
       "      <td>0.210120</td>\n",
       "      <td>0.183619</td>\n",
       "      <td>-0.004958</td>\n",
       "      <td>0.059688</td>\n",
       "      <td>...</td>\n",
       "      <td>0.115594</td>\n",
       "      <td>0.210580</td>\n",
       "      <td>-0.000363</td>\n",
       "      <td>0.338203</td>\n",
       "      <td>0.259531</td>\n",
       "      <td>-0.091038</td>\n",
       "      <td>-0.034069</td>\n",
       "      <td>0.129871</td>\n",
       "      <td>-0.035594</td>\n",
       "      <td>0</td>\n",
       "    </tr>\n",
       "    <tr>\n",
       "      <th>4806</th>\n",
       "      <td>0.005820</td>\n",
       "      <td>-0.016518</td>\n",
       "      <td>-0.018959</td>\n",
       "      <td>0.085076</td>\n",
       "      <td>-0.000623</td>\n",
       "      <td>-0.192236</td>\n",
       "      <td>0.200391</td>\n",
       "      <td>0.357618</td>\n",
       "      <td>0.205793</td>\n",
       "      <td>-0.203538</td>\n",
       "      <td>...</td>\n",
       "      <td>0.187151</td>\n",
       "      <td>0.151626</td>\n",
       "      <td>-0.022935</td>\n",
       "      <td>0.279387</td>\n",
       "      <td>0.201272</td>\n",
       "      <td>-0.144929</td>\n",
       "      <td>-0.043234</td>\n",
       "      <td>0.149943</td>\n",
       "      <td>0.056526</td>\n",
       "      <td>0</td>\n",
       "    </tr>\n",
       "    <tr>\n",
       "      <th>4807</th>\n",
       "      <td>0.046081</td>\n",
       "      <td>0.074279</td>\n",
       "      <td>0.266209</td>\n",
       "      <td>-0.247710</td>\n",
       "      <td>-0.091083</td>\n",
       "      <td>-0.371084</td>\n",
       "      <td>0.162559</td>\n",
       "      <td>0.397906</td>\n",
       "      <td>0.101196</td>\n",
       "      <td>0.070639</td>\n",
       "      <td>...</td>\n",
       "      <td>0.013660</td>\n",
       "      <td>0.210134</td>\n",
       "      <td>-0.104960</td>\n",
       "      <td>0.069277</td>\n",
       "      <td>0.145884</td>\n",
       "      <td>-0.022053</td>\n",
       "      <td>-0.058957</td>\n",
       "      <td>0.098452</td>\n",
       "      <td>0.160879</td>\n",
       "      <td>1</td>\n",
       "    </tr>\n",
       "  </tbody>\n",
       "</table>\n",
       "<p>4808 rows × 301 columns</p>\n",
       "</div>"
      ],
      "text/plain": [
       "             0         1         2         3         4         5         6  \\\n",
       "0     0.051993  0.205470 -0.146695 -0.066692  0.149312 -0.053328  0.237406   \n",
       "1     0.060170  0.201082 -0.030183 -0.069314 -0.054035 -0.122460  0.116592   \n",
       "2     0.036741  0.219314  0.069621 -0.032180 -0.247043 -0.298961  0.235629   \n",
       "3    -0.099989  0.041704 -0.091103  0.006331  0.104697 -0.164659  0.299665   \n",
       "4     0.009769  0.141573 -0.028817  0.010308  0.075954 -0.201315  0.210566   \n",
       "...        ...       ...       ...       ...       ...       ...       ...   \n",
       "4803  0.120477  0.110659  0.044507  0.081643 -0.216456 -0.184520  0.199279   \n",
       "4804 -0.250786  0.021771 -0.002468  0.028527  0.198769 -0.251557  0.119608   \n",
       "4805  0.194964  0.080300 -0.171894  0.015649 -0.082475 -0.059565  0.210120   \n",
       "4806  0.005820 -0.016518 -0.018959  0.085076 -0.000623 -0.192236  0.200391   \n",
       "4807  0.046081  0.074279  0.266209 -0.247710 -0.091083 -0.371084  0.162559   \n",
       "\n",
       "             7         8         9  ...       291       292       293  \\\n",
       "0     0.095073  0.070245  0.289885  ... -0.092050 -0.054107 -0.215877   \n",
       "1     0.132076  0.116671  0.237436  ...  0.065770  0.090555  0.112967   \n",
       "2     0.556083  0.110123 -0.115775  ...  0.042062  0.336031 -0.114556   \n",
       "3     0.280232  0.097952 -0.089352  ...  0.122241  0.153014 -0.146669   \n",
       "4     0.276928  0.222923  0.133650  ...  0.002528  0.118519 -0.054019   \n",
       "...        ...       ...       ...  ...       ...       ...       ...   \n",
       "4803  0.421531  0.009146  0.091394  ...  0.100989  0.164606 -0.144213   \n",
       "4804  0.275086  0.105998 -0.165235  ...  0.103670  0.102335  0.042494   \n",
       "4805  0.183619 -0.004958  0.059688  ...  0.115594  0.210580 -0.000363   \n",
       "4806  0.357618  0.205793 -0.203538  ...  0.187151  0.151626 -0.022935   \n",
       "4807  0.397906  0.101196  0.070639  ...  0.013660  0.210134 -0.104960   \n",
       "\n",
       "           294       295       296       297       298       299  Sentiment  \n",
       "0     0.014916  0.247070 -0.137912 -0.369084  0.239584 -0.200615          1  \n",
       "1    -0.091651  0.077324 -0.140859 -0.230884 -0.018099 -0.061237         -1  \n",
       "2     0.206566  0.229084  0.168387 -0.098181  0.313787 -0.220824          1  \n",
       "3     0.301991  0.095738 -0.059081 -0.064860  0.227062 -0.054326          0  \n",
       "4     0.188689  0.033953 -0.092099 -0.042903  0.267651  0.027494          0  \n",
       "...        ...       ...       ...       ...       ...       ...        ...  \n",
       "4803  0.027027  0.121088  0.013710 -0.274884  0.177417  0.077016         -1  \n",
       "4804  0.063885 -0.035783 -0.138909 -0.331681  0.154721  0.132847          1  \n",
       "4805  0.338203  0.259531 -0.091038 -0.034069  0.129871 -0.035594          0  \n",
       "4806  0.279387  0.201272 -0.144929 -0.043234  0.149943  0.056526          0  \n",
       "4807  0.069277  0.145884 -0.022053 -0.058957  0.098452  0.160879          1  \n",
       "\n",
       "[4808 rows x 301 columns]"
      ]
     },
     "execution_count": 349,
     "metadata": {},
     "output_type": "execute_result"
    }
   ],
   "source": [
    "w2v_train"
   ]
  },
  {
   "cell_type": "code",
   "execution_count": 350,
   "id": "dc61b0df",
   "metadata": {},
   "outputs": [],
   "source": [
    "from imblearn.combine import SMOTEENN\n",
    "from imblearn.over_sampling import SMOTE"
   ]
  },
  {
   "cell_type": "code",
   "execution_count": 351,
   "id": "97fa0116",
   "metadata": {},
   "outputs": [],
   "source": [
    "smote=SMOTEENN(random_state=42)\n",
    "X,y=smote.fit_resample(w2v_train.iloc[:,:-1],w2v_train.Sentiment)"
   ]
  },
  {
   "cell_type": "code",
   "execution_count": 358,
   "id": "ef39dc39",
   "metadata": {},
   "outputs": [
    {
     "data": {
      "text/plain": [
       "-1    2599\n",
       " 1    1473\n",
       " 0    1014\n",
       "Name: Sentiment, dtype: int64"
      ]
     },
     "execution_count": 358,
     "metadata": {},
     "output_type": "execute_result"
    }
   ],
   "source": [
    "y.value_counts()"
   ]
  },
  {
   "cell_type": "code",
   "execution_count": 352,
   "id": "df1254ae",
   "metadata": {},
   "outputs": [],
   "source": [
    "from sklearn.model_selection import train_test_split\n",
    "x_train_w2v,x_test_w2v,y_train_w2v,y_test_w2v=train_test_split(X,y,test_size=0.3,random_state=42)"
   ]
  },
  {
   "cell_type": "code",
   "execution_count": 353,
   "id": "20b27c1a",
   "metadata": {},
   "outputs": [
    {
     "data": {
      "text/html": [
       "<div>\n",
       "<style scoped>\n",
       "    .dataframe tbody tr th:only-of-type {\n",
       "        vertical-align: middle;\n",
       "    }\n",
       "\n",
       "    .dataframe tbody tr th {\n",
       "        vertical-align: top;\n",
       "    }\n",
       "\n",
       "    .dataframe thead th {\n",
       "        text-align: right;\n",
       "    }\n",
       "</style>\n",
       "<table border=\"1\" class=\"dataframe\">\n",
       "  <thead>\n",
       "    <tr style=\"text-align: right;\">\n",
       "      <th></th>\n",
       "      <th>0</th>\n",
       "      <th>1</th>\n",
       "      <th>2</th>\n",
       "      <th>3</th>\n",
       "      <th>4</th>\n",
       "      <th>5</th>\n",
       "      <th>6</th>\n",
       "      <th>7</th>\n",
       "      <th>8</th>\n",
       "      <th>9</th>\n",
       "      <th>...</th>\n",
       "      <th>290</th>\n",
       "      <th>291</th>\n",
       "      <th>292</th>\n",
       "      <th>293</th>\n",
       "      <th>294</th>\n",
       "      <th>295</th>\n",
       "      <th>296</th>\n",
       "      <th>297</th>\n",
       "      <th>298</th>\n",
       "      <th>299</th>\n",
       "    </tr>\n",
       "  </thead>\n",
       "  <tbody>\n",
       "    <tr>\n",
       "      <th>1264</th>\n",
       "      <td>-0.013603</td>\n",
       "      <td>0.234239</td>\n",
       "      <td>-0.030339</td>\n",
       "      <td>-0.020468</td>\n",
       "      <td>-0.167419</td>\n",
       "      <td>-0.193576</td>\n",
       "      <td>0.256397</td>\n",
       "      <td>0.184667</td>\n",
       "      <td>0.291528</td>\n",
       "      <td>-0.097466</td>\n",
       "      <td>...</td>\n",
       "      <td>0.156670</td>\n",
       "      <td>0.085778</td>\n",
       "      <td>-0.006498</td>\n",
       "      <td>-0.086782</td>\n",
       "      <td>0.043638</td>\n",
       "      <td>-0.089405</td>\n",
       "      <td>-0.113098</td>\n",
       "      <td>-0.378477</td>\n",
       "      <td>0.088899</td>\n",
       "      <td>-0.074314</td>\n",
       "    </tr>\n",
       "    <tr>\n",
       "      <th>990</th>\n",
       "      <td>-0.000664</td>\n",
       "      <td>0.232431</td>\n",
       "      <td>0.024023</td>\n",
       "      <td>0.011240</td>\n",
       "      <td>0.154837</td>\n",
       "      <td>-0.090950</td>\n",
       "      <td>0.139777</td>\n",
       "      <td>0.473159</td>\n",
       "      <td>0.140740</td>\n",
       "      <td>-0.215217</td>\n",
       "      <td>...</td>\n",
       "      <td>-0.033313</td>\n",
       "      <td>0.195851</td>\n",
       "      <td>0.071009</td>\n",
       "      <td>-0.078209</td>\n",
       "      <td>0.207582</td>\n",
       "      <td>0.033471</td>\n",
       "      <td>0.188173</td>\n",
       "      <td>-0.206173</td>\n",
       "      <td>0.204729</td>\n",
       "      <td>0.060789</td>\n",
       "    </tr>\n",
       "    <tr>\n",
       "      <th>2357</th>\n",
       "      <td>-0.064928</td>\n",
       "      <td>0.119565</td>\n",
       "      <td>-0.128613</td>\n",
       "      <td>0.040564</td>\n",
       "      <td>0.116910</td>\n",
       "      <td>-0.162436</td>\n",
       "      <td>0.209040</td>\n",
       "      <td>0.222696</td>\n",
       "      <td>0.170133</td>\n",
       "      <td>0.121314</td>\n",
       "      <td>...</td>\n",
       "      <td>0.181703</td>\n",
       "      <td>0.059158</td>\n",
       "      <td>-0.092900</td>\n",
       "      <td>0.012780</td>\n",
       "      <td>0.055018</td>\n",
       "      <td>-0.119227</td>\n",
       "      <td>-0.142426</td>\n",
       "      <td>-0.266205</td>\n",
       "      <td>0.081635</td>\n",
       "      <td>0.000083</td>\n",
       "    </tr>\n",
       "    <tr>\n",
       "      <th>4271</th>\n",
       "      <td>-0.066662</td>\n",
       "      <td>0.263367</td>\n",
       "      <td>-0.115274</td>\n",
       "      <td>0.079919</td>\n",
       "      <td>-0.123812</td>\n",
       "      <td>-0.037953</td>\n",
       "      <td>0.188242</td>\n",
       "      <td>0.309381</td>\n",
       "      <td>0.328761</td>\n",
       "      <td>0.182346</td>\n",
       "      <td>...</td>\n",
       "      <td>0.171391</td>\n",
       "      <td>0.053161</td>\n",
       "      <td>0.006052</td>\n",
       "      <td>-0.025755</td>\n",
       "      <td>0.048196</td>\n",
       "      <td>0.032506</td>\n",
       "      <td>-0.242218</td>\n",
       "      <td>-0.305546</td>\n",
       "      <td>0.210733</td>\n",
       "      <td>0.048424</td>\n",
       "    </tr>\n",
       "    <tr>\n",
       "      <th>1609</th>\n",
       "      <td>-0.067876</td>\n",
       "      <td>0.021841</td>\n",
       "      <td>0.026375</td>\n",
       "      <td>0.120264</td>\n",
       "      <td>-0.013706</td>\n",
       "      <td>-0.133959</td>\n",
       "      <td>0.227675</td>\n",
       "      <td>0.170140</td>\n",
       "      <td>0.243490</td>\n",
       "      <td>0.035663</td>\n",
       "      <td>...</td>\n",
       "      <td>0.160440</td>\n",
       "      <td>0.118050</td>\n",
       "      <td>-0.025222</td>\n",
       "      <td>-0.079488</td>\n",
       "      <td>0.034943</td>\n",
       "      <td>-0.070116</td>\n",
       "      <td>-0.134066</td>\n",
       "      <td>-0.297299</td>\n",
       "      <td>0.029039</td>\n",
       "      <td>-0.012405</td>\n",
       "    </tr>\n",
       "    <tr>\n",
       "      <th>...</th>\n",
       "      <td>...</td>\n",
       "      <td>...</td>\n",
       "      <td>...</td>\n",
       "      <td>...</td>\n",
       "      <td>...</td>\n",
       "      <td>...</td>\n",
       "      <td>...</td>\n",
       "      <td>...</td>\n",
       "      <td>...</td>\n",
       "      <td>...</td>\n",
       "      <td>...</td>\n",
       "      <td>...</td>\n",
       "      <td>...</td>\n",
       "      <td>...</td>\n",
       "      <td>...</td>\n",
       "      <td>...</td>\n",
       "      <td>...</td>\n",
       "      <td>...</td>\n",
       "      <td>...</td>\n",
       "      <td>...</td>\n",
       "      <td>...</td>\n",
       "    </tr>\n",
       "    <tr>\n",
       "      <th>4426</th>\n",
       "      <td>-0.089040</td>\n",
       "      <td>0.262198</td>\n",
       "      <td>0.014557</td>\n",
       "      <td>0.044277</td>\n",
       "      <td>-0.269346</td>\n",
       "      <td>-0.369607</td>\n",
       "      <td>0.293582</td>\n",
       "      <td>0.693740</td>\n",
       "      <td>0.139677</td>\n",
       "      <td>-0.181453</td>\n",
       "      <td>...</td>\n",
       "      <td>0.138814</td>\n",
       "      <td>0.173181</td>\n",
       "      <td>0.365203</td>\n",
       "      <td>-0.147640</td>\n",
       "      <td>0.358977</td>\n",
       "      <td>0.229957</td>\n",
       "      <td>0.116753</td>\n",
       "      <td>-0.241158</td>\n",
       "      <td>0.265780</td>\n",
       "      <td>-0.199688</td>\n",
       "    </tr>\n",
       "    <tr>\n",
       "      <th>466</th>\n",
       "      <td>-0.027612</td>\n",
       "      <td>0.224492</td>\n",
       "      <td>-0.028325</td>\n",
       "      <td>0.187142</td>\n",
       "      <td>-0.038617</td>\n",
       "      <td>-0.002729</td>\n",
       "      <td>0.213971</td>\n",
       "      <td>0.215035</td>\n",
       "      <td>0.117101</td>\n",
       "      <td>0.052516</td>\n",
       "      <td>...</td>\n",
       "      <td>0.100392</td>\n",
       "      <td>0.267795</td>\n",
       "      <td>-0.009485</td>\n",
       "      <td>-0.060263</td>\n",
       "      <td>0.103275</td>\n",
       "      <td>0.007742</td>\n",
       "      <td>-0.117552</td>\n",
       "      <td>-0.295720</td>\n",
       "      <td>0.063941</td>\n",
       "      <td>-0.048103</td>\n",
       "    </tr>\n",
       "    <tr>\n",
       "      <th>3092</th>\n",
       "      <td>0.026585</td>\n",
       "      <td>0.165181</td>\n",
       "      <td>0.077437</td>\n",
       "      <td>-0.150363</td>\n",
       "      <td>0.038198</td>\n",
       "      <td>-0.101934</td>\n",
       "      <td>0.078030</td>\n",
       "      <td>0.277717</td>\n",
       "      <td>0.220286</td>\n",
       "      <td>-0.055599</td>\n",
       "      <td>...</td>\n",
       "      <td>0.077978</td>\n",
       "      <td>0.079912</td>\n",
       "      <td>0.162740</td>\n",
       "      <td>0.093074</td>\n",
       "      <td>0.183940</td>\n",
       "      <td>0.123250</td>\n",
       "      <td>0.105941</td>\n",
       "      <td>-0.188849</td>\n",
       "      <td>0.131577</td>\n",
       "      <td>-0.147674</td>\n",
       "    </tr>\n",
       "    <tr>\n",
       "      <th>3772</th>\n",
       "      <td>0.001783</td>\n",
       "      <td>0.141950</td>\n",
       "      <td>0.074498</td>\n",
       "      <td>-0.286543</td>\n",
       "      <td>0.153629</td>\n",
       "      <td>-0.220071</td>\n",
       "      <td>0.050358</td>\n",
       "      <td>0.418756</td>\n",
       "      <td>0.273851</td>\n",
       "      <td>0.050400</td>\n",
       "      <td>...</td>\n",
       "      <td>0.175204</td>\n",
       "      <td>0.101401</td>\n",
       "      <td>0.151997</td>\n",
       "      <td>0.027146</td>\n",
       "      <td>0.161560</td>\n",
       "      <td>0.249854</td>\n",
       "      <td>0.147738</td>\n",
       "      <td>-0.239729</td>\n",
       "      <td>0.408107</td>\n",
       "      <td>0.060241</td>\n",
       "    </tr>\n",
       "    <tr>\n",
       "      <th>860</th>\n",
       "      <td>-0.025332</td>\n",
       "      <td>0.220279</td>\n",
       "      <td>0.015217</td>\n",
       "      <td>0.118185</td>\n",
       "      <td>-0.161140</td>\n",
       "      <td>-0.037859</td>\n",
       "      <td>0.300309</td>\n",
       "      <td>0.065389</td>\n",
       "      <td>0.304150</td>\n",
       "      <td>-0.057446</td>\n",
       "      <td>...</td>\n",
       "      <td>0.137607</td>\n",
       "      <td>0.263405</td>\n",
       "      <td>-0.142876</td>\n",
       "      <td>-0.065258</td>\n",
       "      <td>0.061931</td>\n",
       "      <td>0.121422</td>\n",
       "      <td>-0.100714</td>\n",
       "      <td>-0.359782</td>\n",
       "      <td>0.037826</td>\n",
       "      <td>0.028578</td>\n",
       "    </tr>\n",
       "  </tbody>\n",
       "</table>\n",
       "<p>3560 rows × 300 columns</p>\n",
       "</div>"
      ],
      "text/plain": [
       "           0         1         2         3         4         5         6    \\\n",
       "1264 -0.013603  0.234239 -0.030339 -0.020468 -0.167419 -0.193576  0.256397   \n",
       "990  -0.000664  0.232431  0.024023  0.011240  0.154837 -0.090950  0.139777   \n",
       "2357 -0.064928  0.119565 -0.128613  0.040564  0.116910 -0.162436  0.209040   \n",
       "4271 -0.066662  0.263367 -0.115274  0.079919 -0.123812 -0.037953  0.188242   \n",
       "1609 -0.067876  0.021841  0.026375  0.120264 -0.013706 -0.133959  0.227675   \n",
       "...        ...       ...       ...       ...       ...       ...       ...   \n",
       "4426 -0.089040  0.262198  0.014557  0.044277 -0.269346 -0.369607  0.293582   \n",
       "466  -0.027612  0.224492 -0.028325  0.187142 -0.038617 -0.002729  0.213971   \n",
       "3092  0.026585  0.165181  0.077437 -0.150363  0.038198 -0.101934  0.078030   \n",
       "3772  0.001783  0.141950  0.074498 -0.286543  0.153629 -0.220071  0.050358   \n",
       "860  -0.025332  0.220279  0.015217  0.118185 -0.161140 -0.037859  0.300309   \n",
       "\n",
       "           7         8         9    ...       290       291       292  \\\n",
       "1264  0.184667  0.291528 -0.097466  ...  0.156670  0.085778 -0.006498   \n",
       "990   0.473159  0.140740 -0.215217  ... -0.033313  0.195851  0.071009   \n",
       "2357  0.222696  0.170133  0.121314  ...  0.181703  0.059158 -0.092900   \n",
       "4271  0.309381  0.328761  0.182346  ...  0.171391  0.053161  0.006052   \n",
       "1609  0.170140  0.243490  0.035663  ...  0.160440  0.118050 -0.025222   \n",
       "...        ...       ...       ...  ...       ...       ...       ...   \n",
       "4426  0.693740  0.139677 -0.181453  ...  0.138814  0.173181  0.365203   \n",
       "466   0.215035  0.117101  0.052516  ...  0.100392  0.267795 -0.009485   \n",
       "3092  0.277717  0.220286 -0.055599  ...  0.077978  0.079912  0.162740   \n",
       "3772  0.418756  0.273851  0.050400  ...  0.175204  0.101401  0.151997   \n",
       "860   0.065389  0.304150 -0.057446  ...  0.137607  0.263405 -0.142876   \n",
       "\n",
       "           293       294       295       296       297       298       299  \n",
       "1264 -0.086782  0.043638 -0.089405 -0.113098 -0.378477  0.088899 -0.074314  \n",
       "990  -0.078209  0.207582  0.033471  0.188173 -0.206173  0.204729  0.060789  \n",
       "2357  0.012780  0.055018 -0.119227 -0.142426 -0.266205  0.081635  0.000083  \n",
       "4271 -0.025755  0.048196  0.032506 -0.242218 -0.305546  0.210733  0.048424  \n",
       "1609 -0.079488  0.034943 -0.070116 -0.134066 -0.297299  0.029039 -0.012405  \n",
       "...        ...       ...       ...       ...       ...       ...       ...  \n",
       "4426 -0.147640  0.358977  0.229957  0.116753 -0.241158  0.265780 -0.199688  \n",
       "466  -0.060263  0.103275  0.007742 -0.117552 -0.295720  0.063941 -0.048103  \n",
       "3092  0.093074  0.183940  0.123250  0.105941 -0.188849  0.131577 -0.147674  \n",
       "3772  0.027146  0.161560  0.249854  0.147738 -0.239729  0.408107  0.060241  \n",
       "860  -0.065258  0.061931  0.121422 -0.100714 -0.359782  0.037826  0.028578  \n",
       "\n",
       "[3560 rows x 300 columns]"
      ]
     },
     "execution_count": 353,
     "metadata": {},
     "output_type": "execute_result"
    }
   ],
   "source": [
    "x_train_w2v"
   ]
  },
  {
   "cell_type": "markdown",
   "id": "3f0bffdf",
   "metadata": {},
   "source": [
    "# Logistic regression"
   ]
  },
  {
   "cell_type": "code",
   "execution_count": 360,
   "id": "74f5c417",
   "metadata": {},
   "outputs": [
    {
     "name": "stdout",
     "output_type": "stream",
     "text": [
      "Training accuracy: 0.92\n",
      "Testing accuracy: 0.91\n",
      "              precision    recall  f1-score   support\n",
      "\n",
      "          -1       0.93      0.98      0.95       782\n",
      "           0       0.90      0.84      0.87       289\n",
      "           1       0.88      0.82      0.85       455\n",
      "\n",
      "    accuracy                           0.91      1526\n",
      "   macro avg       0.90      0.88      0.89      1526\n",
      "weighted avg       0.91      0.91      0.91      1526\n",
      "\n"
     ]
    }
   ],
   "source": [
    "from sklearn.linear_model import LogisticRegression\n",
    "\n",
    "log_clf=LogisticRegression(multi_class='multinomial', solver='lbfgs')\n",
    "\n",
    "log_clf.fit(x_train_w2v,y_train_w2v)\n",
    "\n",
    "y_pred = log_clf.predict(x_test_w2v)\n",
    "\n",
    "print('Training accuracy: {:.2f}'.format(log_clf.score(x_train_w2v, y_train_w2v)))\n",
    "print('Testing accuracy: {:.2f}'.format(log_clf.score(x_test_w2v, y_test_w2v)))\n",
    "from sklearn import metrics\n",
    "print(metrics.classification_report(y_test_w2v,y_pred))"
   ]
  },
  {
   "cell_type": "code",
   "execution_count": 355,
   "id": "d689d224",
   "metadata": {},
   "outputs": [
    {
     "name": "stdout",
     "output_type": "stream",
     "text": [
      "[0.87640449 0.91994382 0.90589888 0.87640449 0.9002809 ]\n"
     ]
    }
   ],
   "source": [
    "from sklearn.model_selection import cross_val_score\n",
    "print(cross_val_score(log_clf,x_train_w2v,y_train_w2v,cv=5))"
   ]
  },
  {
   "cell_type": "code",
   "execution_count": 362,
   "id": "9a0bd526",
   "metadata": {},
   "outputs": [
    {
     "data": {
      "text/plain": [
       "<AxesSubplot:>"
      ]
     },
     "execution_count": 362,
     "metadata": {},
     "output_type": "execute_result"
    },
    {
     "data": {
      "image/png": "[encoded data removed]",
      "text/plain": [
       "<Figure size 640x480 with 2 Axes>"
      ]
     },
     "metadata": {},
     "output_type": "display_data"
    }
   ],
   "source": [
    "from sklearn.metrics import confusion_matrix\n",
    "import matplotlib.pyplot as plt\n",
    "import seaborn as sns\n",
    "cf1=confusion_matrix(y_test_w2v,y_pred)\n",
    "sns.heatmap(cf1,annot=True,fmt='d')"
   ]
  },
  {
   "cell_type": "markdown",
   "id": "d03525a1",
   "metadata": {},
   "source": [
    "# SVM"
   ]
  },
  {
   "cell_type": "raw",
   "id": "a5a1c649",
   "metadata": {},
   "source": [
    "from sklearn.model_selection import GridSearchCV\n",
    "from sklearn import svm\n",
    "from sklearn import metrics\n",
    "\n",
    "svc_clf = SVC()\n",
    "\n",
    "param_grid = {'kernel': ['linear', 'rbf', 'poly'], \n",
    "              'C': [0.1, 1, 10], \n",
    "              'gamma': ['scale', 'auto']}\n",
    "\n",
    "\n",
    "grid_search = GridSearchCV(svc_clf, param_grid, cv=5,verbose=10)\n",
    "grid_search.fit(x_train_w2v, y_train_w2v)\n",
    "\n",
    "print(\"Best hyperparameters: \", grid_search.best_params_)"
   ]
  },
  {
   "cell_type": "code",
   "execution_count": 190,
   "id": "92292c36",
   "metadata": {},
   "outputs": [
    {
     "data": {
      "text/plain": [
       "{'C': 10, 'gamma': 'scale', 'kernel': 'rbf'}"
      ]
     },
     "execution_count": 190,
     "metadata": {},
     "output_type": "execute_result"
    }
   ],
   "source": [
    "grid_search.best_params_"
   ]
  },
  {
   "cell_type": "code",
   "execution_count": 356,
   "id": "4261b037",
   "metadata": {},
   "outputs": [
    {
     "name": "stdout",
     "output_type": "stream",
     "text": [
      "Training accuracy: 1.00\n",
      "Testing accuracy: 0.97\n",
      "              precision    recall  f1-score   support\n",
      "\n",
      "          -1       0.97      1.00      0.99       782\n",
      "           0       0.97      0.93      0.95       289\n",
      "           1       0.96      0.94      0.95       455\n",
      "\n",
      "    accuracy                           0.97      1526\n",
      "   macro avg       0.97      0.95      0.96      1526\n",
      "weighted avg       0.97      0.97      0.97      1526\n",
      "\n"
     ]
    }
   ],
   "source": [
    "from sklearn.svm import SVC\n",
    "svc_clf=SVC(C=10,gamma='scale',kernel='rbf')\n",
    "svc_clf.fit(x_train_w2v,y_train_w2v)\n",
    "\n",
    "y_pred = svc_clf.predict(x_test_w2v)\n",
    "\n",
    "print('Training accuracy: {:.2f}'.format(svc_clf.score(x_train_w2v, y_train_w2v)))\n",
    "print('Testing accuracy: {:.2f}'.format(svc_clf.score(x_test_w2v, y_test_w2v)))\n",
    "from sklearn import metrics\n",
    "print(metrics.classification_report(y_test_w2v,y_pred))"
   ]
  },
  {
   "cell_type": "code",
   "execution_count": 193,
   "id": "ed58a46d",
   "metadata": {},
   "outputs": [
    {
     "name": "stdout",
     "output_type": "stream",
     "text": [
      "[0.90750436 0.91099476 0.91972077 0.88111888 0.91258741]\n"
     ]
    }
   ],
   "source": [
    "from sklearn.model_selection import cross_val_score\n",
    "print(cross_val_score(svc_clf,x_train_w2v,y_train_w2v,cv=5))"
   ]
  },
  {
   "cell_type": "code",
   "execution_count": 363,
   "id": "898b1dad",
   "metadata": {},
   "outputs": [
    {
     "data": {
      "text/plain": [
       "<AxesSubplot:>"
      ]
     },
     "execution_count": 363,
     "metadata": {},
     "output_type": "execute_result"
    },
    {
     "data": {
      "image/png": "[encoded data removed]",
      "text/plain": [
       "<Figure size 640x480 with 2 Axes>"
      ]
     },
     "metadata": {},
     "output_type": "display_data"
    }
   ],
   "source": [
    "from sklearn.metrics import confusion_matrix\n",
    "import matplotlib.pyplot as plt\n",
    "import seaborn as sns\n",
    "cf2=confusion_matrix(y_test_w2v,y_pred)\n",
    "sns.heatmap(cf2,annot=True,fmt='d')"
   ]
  },
  {
   "cell_type": "markdown",
   "id": "88a4d03c",
   "metadata": {},
   "source": [
    "# KNN"
   ]
  },
  {
   "cell_type": "raw",
   "id": "b6d70837",
   "metadata": {},
   "source": [
    "from sklearn.neighbors import KNeighborsClassifier\n",
    "knn_clf=KNeighborsClassifier()\n",
    "param_grid={'n_neighbors':range(1,20)}\n",
    "grid_search = GridSearchCV(knn_clf, param_grid, cv=5,verbose=10)\n",
    "grid_search.fit(x_train_w2v, y_train_w2v)"
   ]
  },
  {
   "cell_type": "code",
   "execution_count": null,
   "id": "2866b656",
   "metadata": {},
   "outputs": [],
   "source": [
    "grid_search.best_params_"
   ]
  },
  {
   "cell_type": "code",
   "execution_count": 364,
   "id": "b80f1b57",
   "metadata": {},
   "outputs": [
    {
     "name": "stdout",
     "output_type": "stream",
     "text": [
      "Training accuracy: 1.00\n",
      "Testing accuracy: 0.97\n",
      "              precision    recall  f1-score   support\n",
      "\n",
      "          -1       0.98      1.00      0.99       782\n",
      "           0       0.99      0.88      0.93       289\n",
      "           1       0.94      0.98      0.96       455\n",
      "\n",
      "    accuracy                           0.97      1526\n",
      "   macro avg       0.97      0.95      0.96      1526\n",
      "weighted avg       0.97      0.97      0.97      1526\n",
      "\n"
     ]
    }
   ],
   "source": [
    "knn_clf=KNeighborsClassifier(n_neighbors=1)\n",
    "knn_clf.fit(x_train_w2v,y_train_w2v)\n",
    "\n",
    "y_pred = knn_clf.predict(x_test_w2v)\n",
    "\n",
    "print('Training accuracy: {:.2f}'.format(knn_clf.score(x_train_w2v, y_train_w2v)))\n",
    "print('Testing accuracy: {:.2f}'.format(knn_clf.score(x_test_w2v, y_test_w2v)))\n",
    "print(metrics.classification_report(y_test_w2v,y_pred))"
   ]
  },
  {
   "cell_type": "code",
   "execution_count": 197,
   "id": "ca1c5cae",
   "metadata": {},
   "outputs": [
    {
     "name": "stdout",
     "output_type": "stream",
     "text": [
      "[0.95113438 0.95636998 0.94589878 0.92482517 0.9458042 ]\n"
     ]
    }
   ],
   "source": [
    "from sklearn.model_selection import cross_val_score\n",
    "print(cross_val_score(knn_clf,x_train_w2v,y_train_w2v,cv=5))"
   ]
  },
  {
   "cell_type": "code",
   "execution_count": 365,
   "id": "b6b8fef8",
   "metadata": {},
   "outputs": [
    {
     "data": {
      "text/plain": [
       "<AxesSubplot:>"
      ]
     },
     "execution_count": 365,
     "metadata": {},
     "output_type": "execute_result"
    },
    {
     "data": {
      "image/png": "[encoded data removed]",
      "text/plain": [
       "<Figure size 640x480 with 2 Axes>"
      ]
     },
     "metadata": {},
     "output_type": "display_data"
    }
   ],
   "source": [
    "from sklearn.metrics import confusion_matrix\n",
    "import matplotlib.pyplot as plt\n",
    "import seaborn as sns\n",
    "cf3=confusion_matrix(y_test_w2v,y_pred)\n",
    "sns.heatmap(cf3,annot=True,fmt='d')"
   ]
  },
  {
   "cell_type": "markdown",
   "id": "ee9024eb",
   "metadata": {},
   "source": [
    "# Random forest"
   ]
  },
  {
   "cell_type": "raw",
   "id": "40136753",
   "metadata": {},
   "source": [
    "from sklearn.ensemble import RandomForestClassifier\n",
    "rf = RandomForestClassifier()\n",
    "param_grid = {'n_estimators': [50, 100, 200],'max_depth':range(1,20),'criterion': ['gini', 'entropy']}\n",
    "grid_search = GridSearchCV(estimator=rf,param_grid=param_grid, cv=3,verbose=10)\n",
    "grid_search.fit(x_train_w2v, y_train_w2v)"
   ]
  },
  {
   "cell_type": "code",
   "execution_count": null,
   "id": "57542dca",
   "metadata": {},
   "outputs": [],
   "source": [
    "grid_search.best_params_"
   ]
  },
  {
   "cell_type": "code",
   "execution_count": 366,
   "id": "725abf09",
   "metadata": {},
   "outputs": [
    {
     "name": "stdout",
     "output_type": "stream",
     "text": [
      "Training accuracy:1.0\n",
      "Testing accuracy:0.9541284403669725\n",
      "              precision    recall  f1-score   support\n",
      "\n",
      "          -1       0.95      1.00      0.98       782\n",
      "           0       0.94      0.93      0.94       289\n",
      "           1       0.96      0.89      0.92       455\n",
      "\n",
      "    accuracy                           0.95      1526\n",
      "   macro avg       0.95      0.94      0.95      1526\n",
      "weighted avg       0.95      0.95      0.95      1526\n",
      "\n"
     ]
    }
   ],
   "source": [
    "from sklearn.ensemble import RandomForestClassifier\n",
    "\n",
    "rf_clf=RandomForestClassifier(n_estimators=100,max_depth=19,criterion='entropy')\n",
    "rf_clf.fit(x_train_w2v,y_train_w2v)\n",
    "\n",
    "y_pred=rf_clf.predict(x_test_w2v)\n",
    "print('Training accuracy:{}'.format(rf_clf.score(x_train_w2v,y_train_w2v)))\n",
    "print('Testing accuracy:{}'.format(metrics.accuracy_score(y_pred,y_test_w2v)))\n",
    "\n",
    "print(metrics.classification_report(y_test_w2v,y_pred))"
   ]
  },
  {
   "cell_type": "code",
   "execution_count": 367,
   "id": "5ccad2c3",
   "metadata": {},
   "outputs": [
    {
     "data": {
      "text/plain": [
       "<AxesSubplot:>"
      ]
     },
     "execution_count": 367,
     "metadata": {},
     "output_type": "execute_result"
    },
    {
     "data": {
      "image/png": "[encoded data removed]",
      "text/plain": [
       "<Figure size 640x480 with 2 Axes>"
      ]
     },
     "metadata": {},
     "output_type": "display_data"
    }
   ],
   "source": [
    "from sklearn.metrics import confusion_matrix\n",
    "import matplotlib.pyplot as plt\n",
    "import seaborn as sns\n",
    "cf4=confusion_matrix(y_test_w2v,y_pred)\n",
    "sns.heatmap(cf4,annot=True,fmt='d')"
   ]
  },
  {
   "cell_type": "markdown",
   "id": "0952edf8",
   "metadata": {},
   "source": [
    "# Xgboost"
   ]
  },
  {
   "cell_type": "raw",
   "id": "d8daabce",
   "metadata": {},
   "source": [
    "from sklearn.model_selection import GridSearchCV\n",
    "from sklearn.preprocessing import LabelEncoder\n",
    "import xgboost as xgb\n",
    "\n",
    "xgb_clf = xgb.XGBClassifier()\n",
    "# lb=LabelEncoder()\n",
    "# y_train1=lb.fit_transform(y_train)\n",
    "param_grid = {'max_depth': [3, 4, 5], \n",
    "              'learning_rate': [0.01, 0.1, 0.5], \n",
    "              'n_estimators': [50, 100, 200]}\n",
    "\n",
    "\n",
    "grid_search = GridSearchCV(xgb_clf, param_grid, cv=5,verbose=10)\n",
    "grid_search.fit(x_train_w2v, y_train_w2v)\n",
    "\n",
    "print(\"Best hyperparameters: \", grid_search.best_params_)"
   ]
  },
  {
   "cell_type": "code",
   "execution_count": null,
   "id": "60e86d1f",
   "metadata": {},
   "outputs": [],
   "source": [
    "grid_search.best_params_"
   ]
  },
  {
   "cell_type": "code",
   "execution_count": 368,
   "id": "a7b81ab3",
   "metadata": {},
   "outputs": [
    {
     "name": "stdout",
     "output_type": "stream",
     "text": [
      "Train accuracy:1.0\n",
      "Test accuracy:0.9626474442988204\n",
      "              precision    recall  f1-score   support\n",
      "\n",
      "           0       0.97      1.00      0.99       782\n",
      "           1       0.95      0.92      0.93       289\n",
      "           2       0.95      0.93      0.94       455\n",
      "\n",
      "    accuracy                           0.96      1526\n",
      "   macro avg       0.96      0.95      0.95      1526\n",
      "weighted avg       0.96      0.96      0.96      1526\n",
      "\n"
     ]
    }
   ],
   "source": [
    "import xgboost as xgb\n",
    "from sklearn.preprocessing import LabelEncoder\n",
    "xgb_clf = xgb.XGBClassifier(learning_rate=0.5, max_depth=5, n_estimators=200)\n",
    "lb=LabelEncoder()\n",
    "y_train1=lb.fit_transform(y_train_w2v)\n",
    "y_test1=lb.fit_transform(y_test_w2v)\n",
    "xgb_clf.fit(x_train_w2v, y_train1)\n",
    "y_pred=xgb_clf.predict(x_test_w2v)\n",
    "print('Train accuracy:{}'.format(xgb_clf.score(x_train_w2v,y_train1)))\n",
    "print('Test accuracy:{}'.format(xgb_clf.score(x_test_w2v,y_test1)))\n",
    "\n",
    "print(metrics.classification_report(y_test1,y_pred))"
   ]
  },
  {
   "cell_type": "code",
   "execution_count": 370,
   "id": "182b57b8",
   "metadata": {},
   "outputs": [
    {
     "data": {
      "text/plain": [
       "<AxesSubplot:>"
      ]
     },
     "execution_count": 370,
     "metadata": {},
     "output_type": "execute_result"
    },
    {
     "data": {
      "image/png": "[encoded data removed]",
      "text/plain": [
       "<Figure size 640x480 with 2 Axes>"
      ]
     },
     "metadata": {},
     "output_type": "display_data"
    }
   ],
   "source": [
    "from sklearn.metrics import confusion_matrix\n",
    "import matplotlib.pyplot as plt\n",
    "import seaborn as sns\n",
    "cf5=confusion_matrix(y_test1,y_pred)\n",
    "sns.heatmap(cf5,annot=True,fmt='d')"
   ]
  },
  {
   "cell_type": "code",
   "execution_count": 371,
   "id": "232669eb",
   "metadata": {},
   "outputs": [],
   "source": [
    "res2={'Models':['logistic regression','SVM','KNN','Random forest','Xgboost'],\n",
    "    'Training Acc':[log_clf.score(x_train_w2v,y_train_w2v),svc_clf.score(x_train_w2v,y_train_w2v),knn_clf.score(x_train_w2v,y_train_w2v),\n",
    "                    rf_clf.score(x_train_w2v,y_train_w2v),xgb_clf.score(x_train_w2v,y_train1)],\n",
    "    'Testing Acc':[log_clf.score(x_test_w2v,y_test_w2v),svc_clf.score(x_test_w2v,y_test_w2v),knn_clf.score(x_test_w2v,y_test_w2v),\n",
    "                    rf_clf.score(x_test_w2v,y_test_w2v),xgb_clf.score(x_test_w2v,y_test1)]}"
   ]
  },
  {
   "cell_type": "code",
   "execution_count": 373,
   "id": "1299ad95",
   "metadata": {},
   "outputs": [
    {
     "data": {
      "text/html": [
       "<div>\n",
       "<style scoped>\n",
       "    .dataframe tbody tr th:only-of-type {\n",
       "        vertical-align: middle;\n",
       "    }\n",
       "\n",
       "    .dataframe tbody tr th {\n",
       "        vertical-align: top;\n",
       "    }\n",
       "\n",
       "    .dataframe thead th {\n",
       "        text-align: right;\n",
       "    }\n",
       "</style>\n",
       "<table border=\"1\" class=\"dataframe\">\n",
       "  <thead>\n",
       "    <tr style=\"text-align: right;\">\n",
       "      <th></th>\n",
       "      <th>Models</th>\n",
       "      <th>Training Acc</th>\n",
       "      <th>Testing Acc</th>\n",
       "    </tr>\n",
       "  </thead>\n",
       "  <tbody>\n",
       "    <tr>\n",
       "      <th>0</th>\n",
       "      <td>logistic regression</td>\n",
       "      <td>0.919101</td>\n",
       "      <td>0.907602</td>\n",
       "    </tr>\n",
       "    <tr>\n",
       "      <th>1</th>\n",
       "      <td>SVM</td>\n",
       "      <td>0.995506</td>\n",
       "      <td>0.967235</td>\n",
       "    </tr>\n",
       "    <tr>\n",
       "      <th>2</th>\n",
       "      <td>KNN</td>\n",
       "      <td>1.000000</td>\n",
       "      <td>0.971822</td>\n",
       "    </tr>\n",
       "    <tr>\n",
       "      <th>3</th>\n",
       "      <td>Random forest</td>\n",
       "      <td>1.000000</td>\n",
       "      <td>0.954128</td>\n",
       "    </tr>\n",
       "    <tr>\n",
       "      <th>4</th>\n",
       "      <td>Xgboost</td>\n",
       "      <td>1.000000</td>\n",
       "      <td>0.962647</td>\n",
       "    </tr>\n",
       "  </tbody>\n",
       "</table>\n",
       "</div>"
      ],
      "text/plain": [
       "                Models  Training Acc  Testing Acc\n",
       "0  logistic regression      0.919101     0.907602\n",
       "1                  SVM      0.995506     0.967235\n",
       "2                  KNN      1.000000     0.971822\n",
       "3        Random forest      1.000000     0.954128\n",
       "4              Xgboost      1.000000     0.962647"
      ]
     },
     "execution_count": 373,
     "metadata": {},
     "output_type": "execute_result"
    }
   ],
   "source": [
    "res2=pd.DataFrame(res2)\n",
    "res2"
   ]
  },
  {
   "cell_type": "markdown",
   "id": "bac85059",
   "metadata": {},
   "source": [
    "### it can be concluded that:\n",
    "- Logistic Regression achieved a train accuracy of 0.919101 and a test accuracy of 0.907602. \n",
    "- SVM achieved a train accuracy of 0.995506 and a test accuracy of 0.967235. \n",
    "- KNN achieved a train accuracy of 1.000000 and a test accuracy of 0.971822. \n",
    "- Random Forest achieved a train accuracy of 1.000000 and a test accuracy of 0.954128. \n",
    "- Xgboost achieved a train accuracy of 1.000000 and a test accuracy of 0.962647"
   ]
  },
  {
   "cell_type": "markdown",
   "id": "dfe80283",
   "metadata": {},
   "source": [
    "# Pretrained word2vec model"
   ]
  },
  {
   "cell_type": "code",
   "execution_count": 382,
   "id": "06a044ae",
   "metadata": {},
   "outputs": [],
   "source": [
    "import gensim\n",
    "model = gensim.models.KeyedVectors.load_word2vec_format(\"E:\\word2vec\\GoogleNews-vectors-negative300.bin\", binary=True)"
   ]
  },
  {
   "cell_type": "code",
   "execution_count": 383,
   "id": "0b0802fd",
   "metadata": {},
   "outputs": [
    {
     "data": {
      "text/html": [
       "<div>\n",
       "<style scoped>\n",
       "    .dataframe tbody tr th:only-of-type {\n",
       "        vertical-align: middle;\n",
       "    }\n",
       "\n",
       "    .dataframe tbody tr th {\n",
       "        vertical-align: top;\n",
       "    }\n",
       "\n",
       "    .dataframe thead th {\n",
       "        text-align: right;\n",
       "    }\n",
       "</style>\n",
       "<table border=\"1\" class=\"dataframe\">\n",
       "  <thead>\n",
       "    <tr style=\"text-align: right;\">\n",
       "      <th></th>\n",
       "      <th>Sentence</th>\n",
       "      <th>Sentiment</th>\n",
       "    </tr>\n",
       "  </thead>\n",
       "  <tbody>\n",
       "    <tr>\n",
       "      <th>0</th>\n",
       "      <td>geosolutions technology leverage benefon gps s...</td>\n",
       "      <td>positive</td>\n",
       "    </tr>\n",
       "    <tr>\n",
       "      <th>1</th>\n",
       "      <td>esi low bk real possibility</td>\n",
       "      <td>negative</td>\n",
       "    </tr>\n",
       "    <tr>\n",
       "      <th>2</th>\n",
       "      <td>last quarter componenta net sale doubled eurm ...</td>\n",
       "      <td>positive</td>\n",
       "    </tr>\n",
       "    <tr>\n",
       "      <th>3</th>\n",
       "      <td>according finnishrussian chamber commerce majo...</td>\n",
       "      <td>neutral</td>\n",
       "    </tr>\n",
       "    <tr>\n",
       "      <th>4</th>\n",
       "      <td>swedish buyout firm sold remaining percent sta...</td>\n",
       "      <td>neutral</td>\n",
       "    </tr>\n",
       "  </tbody>\n",
       "</table>\n",
       "</div>"
      ],
      "text/plain": [
       "                                            Sentence Sentiment\n",
       "0  geosolutions technology leverage benefon gps s...  positive\n",
       "1                        esi low bk real possibility  negative\n",
       "2  last quarter componenta net sale doubled eurm ...  positive\n",
       "3  according finnishrussian chamber commerce majo...   neutral\n",
       "4  swedish buyout firm sold remaining percent sta...   neutral"
      ]
     },
     "execution_count": 383,
     "metadata": {},
     "output_type": "execute_result"
    }
   ],
   "source": [
    "df=pd.read_csv(\"C:\\\\Users\\\\lenovo\\\\ds project\\\\Sentimental analysis\\\\Preprocessed\")\n",
    "df.head()"
   ]
  },
  {
   "cell_type": "code",
   "execution_count": 384,
   "id": "835510c9",
   "metadata": {},
   "outputs": [
    {
     "data": {
      "text/plain": [
       "[('Profits', 0.7299023270606995),\n",
       " ('Earnings', 0.7154350280761719),\n",
       " ('Net_Profit', 0.6674075126647949),\n",
       " ('profit', 0.6339422464370728),\n",
       " ('Net_Income', 0.6061917543411255),\n",
       " ('Quarterly_Profit', 0.5986031293869019),\n",
       " ('Net_income', 0.5941538214683533),\n",
       " ('Pft', 0.57930988073349),\n",
       " ('1Q_Profit', 0.5791439414024353),\n",
       " ('4Q_Profit', 0.5751654505729675)]"
      ]
     },
     "execution_count": 384,
     "metadata": {},
     "output_type": "execute_result"
    }
   ],
   "source": [
    "model.most_similar('Profit')"
   ]
  },
  {
   "cell_type": "code",
   "execution_count": 387,
   "id": "5457e5aa",
   "metadata": {},
   "outputs": [],
   "source": [
    "import nltk\n",
    "tk=nltk.tokenize.TreebankWordTokenizer()\n",
    "tokens = [tk.tokenize(sent) for sent in df['Sentence'].astype(str)]"
   ]
  },
  {
   "cell_type": "code",
   "execution_count": 388,
   "id": "67bef476",
   "metadata": {},
   "outputs": [],
   "source": [
    "from nltk.corpus import stopwords\n",
    "for i in range(len(tokens)):\n",
    "    tokens[i] = [w for w in tokens[i] if w not in stopwords.words('english')]"
   ]
  },
  {
   "cell_type": "code",
   "execution_count": 389,
   "id": "4e3ad3ea",
   "metadata": {},
   "outputs": [],
   "source": [
    "documents = []\n",
    "for x in tokens:\n",
    "    document = [word for word in x if word in model.key_to_index]\n",
    "    documents.append(document)"
   ]
  },
  {
   "cell_type": "code",
   "execution_count": 390,
   "id": "1ee7a1be",
   "metadata": {},
   "outputs": [
    {
     "name": "stdout",
     "output_type": "stream",
     "text": [
      "2\n"
     ]
    }
   ],
   "source": [
    "#checking if there is any empty list inside documents\n",
    "counter = 0\n",
    "for i in range (0,len(documents)):\n",
    "    if documents[i] == []:\n",
    "        counter += 1\n",
    "print(counter)"
   ]
  },
  {
   "cell_type": "code",
   "execution_count": 391,
   "id": "e786cf00",
   "metadata": {},
   "outputs": [],
   "source": [
    "list_v=[]\n",
    "for i in range (0,len(documents)):\n",
    "    if documents[i] == []:\n",
    "        list_v.append(np.zeros(300,))\n",
    "    else:\n",
    "        list_v.append(np.mean(model[documents[i]], axis=0))"
   ]
  },
  {
   "cell_type": "code",
   "execution_count": 392,
   "id": "0724e8e3",
   "metadata": {},
   "outputs": [],
   "source": [
    "df_w2v=pd.DataFrame(list_v)"
   ]
  },
  {
   "cell_type": "code",
   "execution_count": 393,
   "id": "59ff41c1",
   "metadata": {},
   "outputs": [],
   "source": [
    "df_w2v['Sentiment']=df['Sentiment']"
   ]
  },
  {
   "cell_type": "code",
   "execution_count": 394,
   "id": "7d613a98",
   "metadata": {},
   "outputs": [],
   "source": [
    "from imblearn.combine import SMOTEENN\n",
    "smote=SMOTEENN(random_state=42)\n",
    "X,y=smote.fit_resample(df_w2v.iloc[:,:-1],df_w2v.Sentiment)"
   ]
  },
  {
   "cell_type": "code",
   "execution_count": 395,
   "id": "69cd7f65",
   "metadata": {},
   "outputs": [],
   "source": [
    "from sklearn.model_selection import train_test_split\n",
    "x_train_w2v1,x_test_w2v1,y_train_w2v1,y_test_w2v1=train_test_split(X,y,test_size=0.3,random_state=42)"
   ]
  },
  {
   "cell_type": "markdown",
   "id": "03092744",
   "metadata": {},
   "source": [
    "# Logistic regression"
   ]
  },
  {
   "cell_type": "code",
   "execution_count": 503,
   "id": "5cb1cc3e",
   "metadata": {},
   "outputs": [
    {
     "name": "stdout",
     "output_type": "stream",
     "text": [
      "Training accuracy: 0.94\n",
      "Testing accuracy: 0.93\n",
      "              precision    recall  f1-score   support\n",
      "\n",
      "    negative       0.94      0.99      0.97       792\n",
      "     neutral       0.90      0.82      0.86       239\n",
      "    positive       0.91      0.87      0.89       502\n",
      "\n",
      "    accuracy                           0.93      1533\n",
      "   macro avg       0.92      0.89      0.90      1533\n",
      "weighted avg       0.93      0.93      0.92      1533\n",
      "\n"
     ]
    }
   ],
   "source": [
    "from sklearn.linear_model import LogisticRegression\n",
    "\n",
    "log_clf=LogisticRegression(multi_class='multinomial', solver='lbfgs')\n",
    "\n",
    "log_clf.fit(x_train_w2v1,y_train_w2v1)\n",
    "\n",
    "y_pred = log_clf.predict(x_test_w2v1)\n",
    "\n",
    "print('Training accuracy: {:.2f}'.format(log_clf.score(x_train_w2v1, y_train_w2v1)))\n",
    "print('Testing accuracy: {:.2f}'.format(log_clf.score(x_test_w2v1, y_test_w2v1)))\n",
    "from sklearn import metrics\n",
    "print(metrics.classification_report(y_test_w2v1,y_pred))"
   ]
  },
  {
   "cell_type": "code",
   "execution_count": 398,
   "id": "b2a6b2b7",
   "metadata": {},
   "outputs": [
    {
     "name": "stdout",
     "output_type": "stream",
     "text": [
      "[0.91061453 0.91748252 0.92587413 0.91748252 0.91188811]\n"
     ]
    }
   ],
   "source": [
    "from sklearn.model_selection import cross_val_score\n",
    "print(cross_val_score(log_clf,x_train_w2v1,y_train_w2v1,cv=5))"
   ]
  },
  {
   "cell_type": "code",
   "execution_count": 399,
   "id": "d7502a32",
   "metadata": {},
   "outputs": [
    {
     "data": {
      "text/plain": [
       "<AxesSubplot:>"
      ]
     },
     "execution_count": 399,
     "metadata": {},
     "output_type": "execute_result"
    },
    {
     "data": {
      "image/png": "[encoded data removed]",
      "text/plain": [
       "<Figure size 640x480 with 2 Axes>"
      ]
     },
     "metadata": {},
     "output_type": "display_data"
    }
   ],
   "source": [
    "from sklearn.metrics import confusion_matrix\n",
    "import matplotlib.pyplot as plt\n",
    "import seaborn as sns\n",
    "cf1=confusion_matrix(y_test_w2v1,y_pred)\n",
    "sns.heatmap(cf1,annot=True,fmt='d')"
   ]
  },
  {
   "cell_type": "markdown",
   "id": "e93f5b42",
   "metadata": {},
   "source": [
    "# SVM"
   ]
  },
  {
   "cell_type": "raw",
   "id": "13021f88",
   "metadata": {},
   "source": [
    "from sklearn.model_selection import GridSearchCV\n",
    "from sklearn import svm\n",
    "from sklearn import metrics\n",
    "\n",
    "svc_clf = SVC()\n",
    "\n",
    "param_grid = {'kernel': ['linear', 'rbf', 'poly'], \n",
    "              'C': [0.1, 1, 10], \n",
    "              'gamma': ['scale', 'auto']}\n",
    "\n",
    "\n",
    "grid_search = GridSearchCV(svc_clf, param_grid, cv=5,verbose=10)\n",
    "grid_search.fit(x_train_w2v, y_train_w2v)\n",
    "\n",
    "print(\"Best hyperparameters: \", grid_search.best_params_)"
   ]
  },
  {
   "cell_type": "code",
   "execution_count": null,
   "id": "bc3dbc03",
   "metadata": {},
   "outputs": [],
   "source": [
    "grid_search.best_params_"
   ]
  },
  {
   "cell_type": "code",
   "execution_count": 408,
   "id": "28b72990",
   "metadata": {},
   "outputs": [
    {
     "name": "stdout",
     "output_type": "stream",
     "text": [
      "Training accuracy: 1.00\n",
      "Testing accuracy: 0.97\n",
      "              precision    recall  f1-score   support\n",
      "\n",
      "    negative       0.98      1.00      0.99       792\n",
      "     neutral       0.97      0.90      0.93       239\n",
      "    positive       0.96      0.96      0.96       502\n",
      "\n",
      "    accuracy                           0.97      1533\n",
      "   macro avg       0.97      0.95      0.96      1533\n",
      "weighted avg       0.97      0.97      0.97      1533\n",
      "\n"
     ]
    }
   ],
   "source": [
    "from sklearn.svm import SVC\n",
    "svc_clf=SVC(C=10,gamma='scale',kernel='poly')\n",
    "svc_clf.fit(x_train_w2v1,y_train_w2v1)\n",
    "\n",
    "y_pred = svc_clf.predict(x_test_w2v1)\n",
    "\n",
    "print('Training accuracy: {:.2f}'.format(svc_clf.score(x_train_w2v1, y_train_w2v1)))\n",
    "print('Testing accuracy: {:.2f}'.format(svc_clf.score(x_test_w2v1, y_test_w2v1)))\n",
    "from sklearn import metrics\n",
    "print(metrics.classification_report(y_test_w2v1,y_pred))"
   ]
  },
  {
   "cell_type": "code",
   "execution_count": 409,
   "id": "fa4a5203",
   "metadata": {},
   "outputs": [
    {
     "name": "stdout",
     "output_type": "stream",
     "text": [
      "[0.97206704 0.97622378 0.96083916 0.96223776 0.96923077]\n"
     ]
    }
   ],
   "source": [
    "from sklearn.model_selection import cross_val_score\n",
    "print(cross_val_score(svc_clf,x_train_w2v1,y_train_w2v1,cv=5))"
   ]
  },
  {
   "cell_type": "code",
   "execution_count": 410,
   "id": "5dbb5ea9",
   "metadata": {},
   "outputs": [
    {
     "data": {
      "text/plain": [
       "<AxesSubplot:>"
      ]
     },
     "execution_count": 410,
     "metadata": {},
     "output_type": "execute_result"
    },
    {
     "data": {
      "image/png": "[encoded data removed]",
      "text/plain": [
       "<Figure size 640x480 with 2 Axes>"
      ]
     },
     "metadata": {},
     "output_type": "display_data"
    }
   ],
   "source": [
    "cf2=confusion_matrix(y_test_w2v1,y_pred)\n",
    "sns.heatmap(cf2,annot=True,fmt='d')"
   ]
  },
  {
   "cell_type": "markdown",
   "id": "34fc09d4",
   "metadata": {},
   "source": [
    "# KNN"
   ]
  },
  {
   "cell_type": "code",
   "execution_count": 411,
   "id": "01f49eb1",
   "metadata": {},
   "outputs": [],
   "source": [
    "from sklearn.neighbors import KNeighborsClassifier"
   ]
  },
  {
   "cell_type": "raw",
   "id": "9c9a5dcd",
   "metadata": {},
   "source": [
    "knn_clf=KNeighborsClassifier()\n",
    "param_grid={'n_neighbors':range(1,20)}\n",
    "grid_search = GridSearchCV(knn_clf, param_grid, cv=5,verbose=10)\n",
    "grid_search.fit(x_train_w2v, y_train_w2v)"
   ]
  },
  {
   "cell_type": "code",
   "execution_count": 413,
   "id": "d6e722a6",
   "metadata": {},
   "outputs": [],
   "source": [
    "# grid_search.best_params_"
   ]
  },
  {
   "cell_type": "code",
   "execution_count": 414,
   "id": "38db32b9",
   "metadata": {},
   "outputs": [
    {
     "name": "stdout",
     "output_type": "stream",
     "text": [
      "Training accuracy: 1.00\n",
      "Testing accuracy: 0.98\n",
      "              precision    recall  f1-score   support\n",
      "\n",
      "    negative       0.99      1.00      1.00       792\n",
      "     neutral       1.00      0.89      0.94       239\n",
      "    positive       0.95      0.99      0.97       502\n",
      "\n",
      "    accuracy                           0.98      1533\n",
      "   macro avg       0.98      0.96      0.97      1533\n",
      "weighted avg       0.98      0.98      0.98      1533\n",
      "\n"
     ]
    }
   ],
   "source": [
    "knn_clf=KNeighborsClassifier(n_neighbors=1)\n",
    "knn_clf.fit(x_train_w2v1,y_train_w2v1)\n",
    "\n",
    "y_pred = knn_clf.predict(x_test_w2v1)\n",
    "\n",
    "print('Training accuracy: {:.2f}'.format(knn_clf.score(x_train_w2v1, y_train_w2v1)))\n",
    "print('Testing accuracy: {:.2f}'.format(knn_clf.score(x_test_w2v1, y_test_w2v1)))\n",
    "print(metrics.classification_report(y_test_w2v1,y_pred))"
   ]
  },
  {
   "cell_type": "code",
   "execution_count": 415,
   "id": "9aada94d",
   "metadata": {},
   "outputs": [
    {
     "name": "stdout",
     "output_type": "stream",
     "text": [
      "[0.96368715 0.96923077 0.96223776 0.96503497 0.95664336]\n"
     ]
    }
   ],
   "source": [
    "from sklearn.model_selection import cross_val_score\n",
    "print(cross_val_score(knn_clf,x_train_w2v1,y_train_w2v1,cv=5))"
   ]
  },
  {
   "cell_type": "code",
   "execution_count": 416,
   "id": "6ea9b529",
   "metadata": {},
   "outputs": [
    {
     "data": {
      "text/plain": [
       "<AxesSubplot:>"
      ]
     },
     "execution_count": 416,
     "metadata": {},
     "output_type": "execute_result"
    },
    {
     "data": {
      "image/png": "[encoded data removed]",
      "text/plain": [
       "<Figure size 640x480 with 2 Axes>"
      ]
     },
     "metadata": {},
     "output_type": "display_data"
    }
   ],
   "source": [
    "cf3=confusion_matrix(y_test_w2v1,y_pred)\n",
    "sns.heatmap(cf3,annot=True,fmt='d')"
   ]
  },
  {
   "cell_type": "markdown",
   "id": "42e21d4d",
   "metadata": {},
   "source": [
    "# Random forest"
   ]
  },
  {
   "cell_type": "raw",
   "id": "e4aa1fa4",
   "metadata": {},
   "source": [
    "from sklearn.ensemble import RandomForestClassifier\n",
    "rf = RandomForestClassifier()\n",
    "param_grid = {'n_estimators': [50, 100, 200],'max_depth':range(1,20),'criterion': ['gini', 'entropy']}\n",
    "grid_search = GridSearchCV(estimator=rf,param_grid=param_grid, cv=3,verbose=10)\n",
    "grid_search.fit(x_train_w2v, y_train_w2v)"
   ]
  },
  {
   "cell_type": "code",
   "execution_count": null,
   "id": "5e29d364",
   "metadata": {},
   "outputs": [],
   "source": [
    "grid_search.best_params_"
   ]
  },
  {
   "cell_type": "code",
   "execution_count": 417,
   "id": "bcf9a57e",
   "metadata": {},
   "outputs": [
    {
     "name": "stdout",
     "output_type": "stream",
     "text": [
      "Training accuracy:1.0\n",
      "Testing accuracy:0.928897586431833\n",
      "              precision    recall  f1-score   support\n",
      "\n",
      "    negative       0.94      1.00      0.97       792\n",
      "     neutral       0.97      0.77      0.86       239\n",
      "    positive       0.89      0.90      0.89       502\n",
      "\n",
      "    accuracy                           0.93      1533\n",
      "   macro avg       0.94      0.89      0.91      1533\n",
      "weighted avg       0.93      0.93      0.93      1533\n",
      "\n"
     ]
    }
   ],
   "source": [
    "from sklearn.ensemble import RandomForestClassifier\n",
    "\n",
    "rf_clf=RandomForestClassifier(n_estimators=200,max_depth=19,criterion='entropy')\n",
    "rf_clf.fit(x_train_w2v1,y_train_w2v1)\n",
    "\n",
    "y_pred=rf_clf.predict(x_test_w2v1)\n",
    "print('Training accuracy:{}'.format(rf_clf.score(x_train_w2v1,y_train_w2v1)))\n",
    "print('Testing accuracy:{}'.format(metrics.accuracy_score(y_pred,y_test_w2v1)))\n",
    "\n",
    "print(metrics.classification_report(y_test_w2v1,y_pred))"
   ]
  },
  {
   "cell_type": "code",
   "execution_count": 67,
   "id": "b309769a",
   "metadata": {},
   "outputs": [
    {
     "name": "stdout",
     "output_type": "stream",
     "text": [
      "[0.93146853 0.90629371 0.91456583 0.92577031 0.90756303]\n"
     ]
    }
   ],
   "source": [
    "from sklearn.model_selection import cross_val_score\n",
    "print(cross_val_score(rf_clf,x_train_w2v1,y_train_w2v1,cv=5))"
   ]
  },
  {
   "cell_type": "code",
   "execution_count": 418,
   "id": "f3af5612",
   "metadata": {},
   "outputs": [
    {
     "data": {
      "text/plain": [
       "<AxesSubplot:>"
      ]
     },
     "execution_count": 418,
     "metadata": {},
     "output_type": "execute_result"
    },
    {
     "data": {
      "image/png": "[encoded data removed]",
      "text/plain": [
       "<Figure size 640x480 with 2 Axes>"
      ]
     },
     "metadata": {},
     "output_type": "display_data"
    }
   ],
   "source": [
    "cf4=confusion_matrix(y_test_w2v1,y_pred)\n",
    "sns.heatmap(cf4,annot=True,fmt='d')"
   ]
  },
  {
   "cell_type": "markdown",
   "id": "6016cc77",
   "metadata": {},
   "source": [
    "# XGBOOST"
   ]
  },
  {
   "cell_type": "code",
   "execution_count": 419,
   "id": "c1be52c0",
   "metadata": {},
   "outputs": [
    {
     "name": "stdout",
     "output_type": "stream",
     "text": [
      "Train accuracy:1.0\n",
      "Test accuracy:0.9517286366601435\n",
      "              precision    recall  f1-score   support\n",
      "\n",
      "           0       0.97      1.00      0.98       792\n",
      "           1       0.94      0.86      0.90       239\n",
      "           2       0.93      0.92      0.93       502\n",
      "\n",
      "    accuracy                           0.95      1533\n",
      "   macro avg       0.95      0.93      0.94      1533\n",
      "weighted avg       0.95      0.95      0.95      1533\n",
      "\n"
     ]
    }
   ],
   "source": [
    "import xgboost as xgb\n",
    "from sklearn.preprocessing import LabelEncoder\n",
    "xgb_clf = xgb.XGBClassifier(learning_rate=0.5, max_depth=5, n_estimators=200)\n",
    "lb=LabelEncoder()\n",
    "y_train1=lb.fit_transform(y_train_w2v1)\n",
    "y_test1=lb.fit_transform(y_test_w2v1)\n",
    "xgb_clf.fit(x_train_w2v1, y_train1)\n",
    "y_pred=xgb_clf.predict(x_test_w2v1)\n",
    "print('Train accuracy:{}'.format(xgb_clf.score(x_train_w2v1,y_train1)))\n",
    "print('Test accuracy:{}'.format(xgb_clf.score(x_test_w2v1,y_test1)))\n",
    "\n",
    "print(metrics.classification_report(y_test1,y_pred))"
   ]
  },
  {
   "cell_type": "code",
   "execution_count": 420,
   "id": "fc79d88b",
   "metadata": {},
   "outputs": [
    {
     "name": "stdout",
     "output_type": "stream",
     "text": [
      "[0.93994413 0.94125874 0.93706294 0.94545455 0.94965035]\n"
     ]
    }
   ],
   "source": [
    "from sklearn.model_selection import cross_val_score\n",
    "print(cross_val_score(xgb_clf,x_train_w2v1,y_train1,cv=5))"
   ]
  },
  {
   "cell_type": "code",
   "execution_count": 423,
   "id": "58bcf875",
   "metadata": {},
   "outputs": [
    {
     "data": {
      "text/plain": [
       "<AxesSubplot:>"
      ]
     },
     "execution_count": 423,
     "metadata": {},
     "output_type": "execute_result"
    },
    {
     "data": {
      "image/png": "[encoded data removed]",
      "text/plain": [
       "<Figure size 640x480 with 2 Axes>"
      ]
     },
     "metadata": {},
     "output_type": "display_data"
    }
   ],
   "source": [
    "cf5=confusion_matrix(y_test1,y_pred)\n",
    "sns.heatmap(cf5,annot=True,fmt='d')"
   ]
  },
  {
   "cell_type": "markdown",
   "id": "632157b8",
   "metadata": {},
   "source": [
    "# Results of Pretrained Word2vec model"
   ]
  },
  {
   "cell_type": "code",
   "execution_count": 424,
   "id": "f1d38120",
   "metadata": {},
   "outputs": [],
   "source": [
    "res3={'Models':['logistic regression','SVM','KNN','Random forest','Xgboost'],\n",
    "    'Training Acc':[log_clf.score(x_train_w2v1,y_train_w2v1),svc_clf.score(x_train_w2v1,y_train_w2v1),knn_clf.score(x_train_w2v1,y_train_w2v1),\n",
    "                    rf_clf.score(x_train_w2v1,y_train_w2v1),xgb_clf.score(x_train_w2v1,y_train1)],\n",
    "    'Testing Acc':[log_clf.score(x_test_w2v1,y_test_w2v1),svc_clf.score(x_test_w2v1,y_test_w2v1),knn_clf.score(x_test_w2v1,y_test_w2v1),\n",
    "                    rf_clf.score(x_test_w2v1,y_test_w2v1),xgb_clf.score(x_test_w2v1,y_test1)]}"
   ]
  },
  {
   "cell_type": "code",
   "execution_count": 425,
   "id": "00226028",
   "metadata": {},
   "outputs": [],
   "source": [
    "results=pd.DataFrame(res3)"
   ]
  },
  {
   "cell_type": "code",
   "execution_count": 426,
   "id": "9c75c973",
   "metadata": {},
   "outputs": [
    {
     "data": {
      "text/html": [
       "<div>\n",
       "<style scoped>\n",
       "    .dataframe tbody tr th:only-of-type {\n",
       "        vertical-align: middle;\n",
       "    }\n",
       "\n",
       "    .dataframe tbody tr th {\n",
       "        vertical-align: top;\n",
       "    }\n",
       "\n",
       "    .dataframe thead th {\n",
       "        text-align: right;\n",
       "    }\n",
       "</style>\n",
       "<table border=\"1\" class=\"dataframe\">\n",
       "  <thead>\n",
       "    <tr style=\"text-align: right;\">\n",
       "      <th></th>\n",
       "      <th>Models</th>\n",
       "      <th>Training Acc</th>\n",
       "      <th>Testing Acc</th>\n",
       "    </tr>\n",
       "  </thead>\n",
       "  <tbody>\n",
       "    <tr>\n",
       "      <th>0</th>\n",
       "      <td>logistic regression</td>\n",
       "      <td>0.938199</td>\n",
       "      <td>0.926288</td>\n",
       "    </tr>\n",
       "    <tr>\n",
       "      <th>1</th>\n",
       "      <td>SVM</td>\n",
       "      <td>1.000000</td>\n",
       "      <td>0.971950</td>\n",
       "    </tr>\n",
       "    <tr>\n",
       "      <th>2</th>\n",
       "      <td>KNN</td>\n",
       "      <td>1.000000</td>\n",
       "      <td>0.979126</td>\n",
       "    </tr>\n",
       "    <tr>\n",
       "      <th>3</th>\n",
       "      <td>Random forest</td>\n",
       "      <td>1.000000</td>\n",
       "      <td>0.928898</td>\n",
       "    </tr>\n",
       "    <tr>\n",
       "      <th>4</th>\n",
       "      <td>Xgboost</td>\n",
       "      <td>1.000000</td>\n",
       "      <td>0.951729</td>\n",
       "    </tr>\n",
       "  </tbody>\n",
       "</table>\n",
       "</div>"
      ],
      "text/plain": [
       "                Models  Training Acc  Testing Acc\n",
       "0  logistic regression      0.938199     0.926288\n",
       "1                  SVM      1.000000     0.971950\n",
       "2                  KNN      1.000000     0.979126\n",
       "3        Random forest      1.000000     0.928898\n",
       "4              Xgboost      1.000000     0.951729"
      ]
     },
     "execution_count": 426,
     "metadata": {},
     "output_type": "execute_result"
    }
   ],
   "source": [
    "results"
   ]
  },
  {
   "cell_type": "markdown",
   "id": "5baeb005",
   "metadata": {},
   "source": [
    "### it can be concluded that: \n",
    "- All models achieved high training accuracy above 94%, indicating that they were able to fit the training data well. \n",
    "- SVM and KNN achieved the highest testing accuracy above 97%, indicating that they performed well on the unseen testing data. \n",
    "- Random forest achieved the lowest testing accuracy 92.7%, while all other models achieved testing accuracy above 91%, indicating that Random forest may not be the best model for this dataset."
   ]
  },
  {
   "cell_type": "code",
   "execution_count": null,
   "id": "cf112940",
   "metadata": {},
   "outputs": [],
   "source": []
  }
 ],
 "metadata": {
  "kernelspec": {
   "display_name": "Python 3 (ipykernel)",
   "language": "python",
   "name": "python3"
  },
  "language_info": {
   "codemirror_mode": {
    "name": "ipython",
    "version": 3
   },
   "file_extension": ".py",
   "mimetype": "text/x-python",
   "name": "python",
   "nbconvert_exporter": "python",
   "pygments_lexer": "ipython3",
   "version": "3.9.13"
  }
 },
 "nbformat": 4,
 "nbformat_minor": 5
}
